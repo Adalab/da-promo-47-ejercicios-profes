{
 "cells": [
  {
   "cell_type": "code",
   "execution_count": 2,
   "metadata": {},
   "outputs": [],
   "source": [
    "import pandas as pd"
   ]
  },
  {
   "cell_type": "code",
   "execution_count": 7,
   "metadata": {},
   "outputs": [],
   "source": [
    "df_clientes = pd.read_csv('./files/clientes.csv')\n",
    "df_ventas = pd.read_csv('./files/ventas.csv')"
   ]
  },
  {
   "cell_type": "code",
   "execution_count": 8,
   "metadata": {},
   "outputs": [
    {
     "data": {
      "text/html": [
       "<div>\n",
       "<style scoped>\n",
       "    .dataframe tbody tr th:only-of-type {\n",
       "        vertical-align: middle;\n",
       "    }\n",
       "\n",
       "    .dataframe tbody tr th {\n",
       "        vertical-align: top;\n",
       "    }\n",
       "\n",
       "    .dataframe thead th {\n",
       "        text-align: right;\n",
       "    }\n",
       "</style>\n",
       "<table border=\"1\" class=\"dataframe\">\n",
       "  <thead>\n",
       "    <tr style=\"text-align: right;\">\n",
       "      <th></th>\n",
       "      <th>ID_Cliente</th>\n",
       "      <th>ID_Producto</th>\n",
       "      <th>Fecha_Venta</th>\n",
       "      <th>Cantidad</th>\n",
       "      <th>Total</th>\n",
       "    </tr>\n",
       "  </thead>\n",
       "  <tbody>\n",
       "    <tr>\n",
       "      <th>0</th>\n",
       "      <td>723</td>\n",
       "      <td>A1</td>\n",
       "      <td>2023-11-22</td>\n",
       "      <td>2</td>\n",
       "      <td>17.98</td>\n",
       "    </tr>\n",
       "    <tr>\n",
       "      <th>1</th>\n",
       "      <td>498</td>\n",
       "      <td>C3</td>\n",
       "      <td>2023-11-21</td>\n",
       "      <td>1</td>\n",
       "      <td>5.49</td>\n",
       "    </tr>\n",
       "    <tr>\n",
       "      <th>2</th>\n",
       "      <td>121</td>\n",
       "      <td>D4</td>\n",
       "      <td>2023-11-20</td>\n",
       "      <td>3</td>\n",
       "      <td>32.97</td>\n",
       "    </tr>\n",
       "    <tr>\n",
       "      <th>3</th>\n",
       "      <td>885</td>\n",
       "      <td>L12</td>\n",
       "      <td>2023-11-19</td>\n",
       "      <td>1</td>\n",
       "      <td>6.49</td>\n",
       "    </tr>\n",
       "    <tr>\n",
       "      <th>4</th>\n",
       "      <td>347</td>\n",
       "      <td>Q17</td>\n",
       "      <td>2023-11-18</td>\n",
       "      <td>2</td>\n",
       "      <td>7.98</td>\n",
       "    </tr>\n",
       "  </tbody>\n",
       "</table>\n",
       "</div>"
      ],
      "text/plain": [
       "   ID_Cliente ID_Producto Fecha_Venta  Cantidad  Total\n",
       "0         723          A1  2023-11-22         2  17.98\n",
       "1         498          C3  2023-11-21         1   5.49\n",
       "2         121          D4  2023-11-20         3  32.97\n",
       "3         885         L12  2023-11-19         1   6.49\n",
       "4         347         Q17  2023-11-18         2   7.98"
      ]
     },
     "execution_count": 8,
     "metadata": {},
     "output_type": "execute_result"
    }
   ],
   "source": [
    "df_ventas.head()"
   ]
  },
  {
   "cell_type": "code",
   "execution_count": null,
   "metadata": {},
   "outputs": [],
   "source": [
    "## soporte fichero de funciones\n",
    "def explore_data(df):\n",
    "    print(\"Explorando el dataset\")\n",
    "    print(df.head())\n",
    "    print(df.info())\n",
    "    print(df.describe())\n",
    "    print(df.columns) \n"
   ]
  },
  {
   "cell_type": "code",
   "execution_count": null,
   "metadata": {},
   "outputs": [],
   "source": [
    "## soporte de fichero de funciones\n",
    "def clean_data (df):\n",
    "    print(\"Limpiando el dataset\")\n",
    "    print(df.isnull().sum())\n",
    "    print(df.dropna())\n",
    "    print(df.drop_duplicates())\n",
    "    print(df.drop_duplicates().shape)"
   ]
  },
  {
   "cell_type": "code",
   "execution_count": null,
   "metadata": {},
   "outputs": [],
   "source": [
    "# main\n",
    "\n",
    "## Exploracion de datos\n",
    "explore_data(df_clientes)\n",
    "explore_data(df_ventas)\n",
    "\n",
    "\n",
    "## Transformacion de los datos\n",
    "clean_data(df_clientes)\n",
    "clean_data(df_ventas)"
   ]
  },
  {
   "cell_type": "markdown",
   "metadata": {},
   "source": [
    "## ETL\n",
    "\n",
    "Extraer, Transformar, Cargar -- flujo de trabajo (pipeline)\n",
    "\n",
    "\n",
    "## Proceso ETL (Extract, Transform, Load)\n",
    "\n",
    "|  **ETL**        |  **Acción**                                 |  **Ejemplo práctico**                          |\n",
    "|-----------------|----------------------------------------------|-------------------------------------------------|\n",
    "| **E: Extract**  | Obtener datos de diferentes fuentes (CSV, API, SQL) | Descargar un archivo CSV con datos de ventas.   |\n",
    "| **T: Transform** | Limpiar y transformar los datos              | Eliminar valores nulos, calcular promedios, convertir formatos de fecha. |\n",
    "| **L: Load**     | Cargar los datos en un destino final          | Guardar los datos limpios en una base de datos o enviarlos a un dashboard. |\n"
   ]
  },
  {
   "cell_type": "markdown",
   "metadata": {},
   "source": [
    "## Receta \n",
    "\n",
    "1. Crear un jupyter: leer de datos, limpieza y transformacion, carga de datos(bd, csv)\n",
    "\n",
    "- EQUIVALENTE\n",
    "- Crear un fichero de funciones con las operaciones anteriores:\n",
    "  - soporte.py\n",
    "  - main.py\n",
    "\n",
    "2. Ejecutar el script"
   ]
  },
  {
   "cell_type": "markdown",
   "metadata": {},
   "source": [
    "# 🗂️ Estructura de archivos y carpetas del proyecto ETL\n"
   ]
  },
  {
   "cell_type": "markdown",
   "metadata": {},
   "source": [
    "\n",
    "| Archivo/Carpeta        | Descripción                                   |\n",
    "|------------------------|-----------------------------------------------|\n",
    "| `my_project/`          | Carpeta principal del proyecto ETL            |\n",
    "| ├── `main.py`          | Archivo principal que ejecuta el flujo ETL    |\n",
    "| ├── `clientes.csv`     | Archivo CSV con los datos                     |\n",
    "| ├── `my_database.db`   | Base de datos SQLite generada                 |\n",
    "| └── `src/`             | Carpeta con el código fuente del proyecto     |\n",
    "|     ├── `__init__.py`  | Archivo vacío para marcar `src` como módulo   |\n",
    "|     ├── `extract.py`   | Contiene la función `extract_data`            |\n",
    "|     ├── `transform.py` | Contiene la función `transform_data`          |\n",
    "|     └── `load.py`      | Contiene la función `load_data`               |\n"
   ]
  },
  {
   "cell_type": "code",
   "execution_count": null,
   "metadata": {},
   "outputs": [],
   "source": []
  }
 ],
 "metadata": {
  "kernelspec": {
   "display_name": "base",
   "language": "python",
   "name": "python3"
  },
  "language_info": {
   "codemirror_mode": {
    "name": "ipython",
    "version": 3
   },
   "file_extension": ".py",
   "mimetype": "text/x-python",
   "name": "python",
   "nbconvert_exporter": "python",
   "pygments_lexer": "ipython3",
   "version": "3.9.7"
  }
 },
 "nbformat": 4,
 "nbformat_minor": 2
}
