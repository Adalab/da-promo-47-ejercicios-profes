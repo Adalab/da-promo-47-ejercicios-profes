{
 "cells": [
  {
   "cell_type": "markdown",
   "metadata": {},
   "source": [
    "## Estadística Inferencial \n",
    "\n",
    "- Intervalos de confianza:\n",
    "  - Muestra \n",
    "  - Poblacion \n",
    "- Pruebas de hipótesis\n"
   ]
  },
  {
   "cell_type": "code",
   "execution_count": 4,
   "metadata": {},
   "outputs": [],
   "source": [
    "\n",
    "# importamos las librerías que necesitamos\n",
    "\n",
    "# Tratamiento de datos\n",
    "# -----------------------------------------------------------------------\n",
    "import pandas as pd\n",
    "import numpy as np\n",
    "\n",
    "# Visualización\n",
    "# ------------------------------------------------------------------------------\n",
    "import matplotlib.pyplot as plt\n",
    "import seaborn as sns\n",
    "\n",
    "# Evaluar linealidad de las relaciones entre las variables\n",
    "# y la distribución de las variables\n",
    "# ------------------------------------------------------------------------------\n",
    "#import scipy.stats as stats\n",
    "import scipy.stats as st\n",
    "import scipy.stats as stats\n",
    "from scipy.stats import shapiro, poisson, chisquare, expon, kstest\n",
    "\n",
    "\n",
    "# Configuración\n",
    "# -----------------------------------------------------------------------\n",
    "pd.set_option('display.max_columns', None) # para poder visualizar todas las columnas de los DataFrames\n",
    "\n",
    "# Gestión de los warnings\n",
    "# -----------------------------------------------------------------------\n",
    "import warnings\n",
    "warnings.filterwarnings(\"ignore\")"
   ]
  },
  {
   "cell_type": "code",
   "execution_count": 5,
   "metadata": {},
   "outputs": [
    {
     "data": {
      "text/html": [
       "<div>\n",
       "<style scoped>\n",
       "    .dataframe tbody tr th:only-of-type {\n",
       "        vertical-align: middle;\n",
       "    }\n",
       "\n",
       "    .dataframe tbody tr th {\n",
       "        vertical-align: top;\n",
       "    }\n",
       "\n",
       "    .dataframe thead th {\n",
       "        text-align: right;\n",
       "    }\n",
       "</style>\n",
       "<table border=\"1\" class=\"dataframe\">\n",
       "  <thead>\n",
       "    <tr style=\"text-align: right;\">\n",
       "      <th></th>\n",
       "      <th>income</th>\n",
       "      <th>kidhome</th>\n",
       "      <th>teenhome</th>\n",
       "      <th>dt_customer</th>\n",
       "      <th>numwebvisitsmonth</th>\n",
       "      <th>id</th>\n",
       "      <th>job</th>\n",
       "      <th>marital</th>\n",
       "      <th>education</th>\n",
       "      <th>default</th>\n",
       "      <th>housing</th>\n",
       "      <th>loan</th>\n",
       "      <th>contact</th>\n",
       "      <th>duration</th>\n",
       "      <th>campaign</th>\n",
       "      <th>previous</th>\n",
       "      <th>poutcome</th>\n",
       "      <th>empvarrate</th>\n",
       "      <th>conspriceidx</th>\n",
       "      <th>consconfidx</th>\n",
       "      <th>nremployed</th>\n",
       "      <th>y</th>\n",
       "      <th>date</th>\n",
       "      <th>latitude</th>\n",
       "      <th>longitude</th>\n",
       "      <th>contact_month</th>\n",
       "      <th>contact_year</th>\n",
       "      <th>age_cat</th>\n",
       "      <th>age</th>\n",
       "      <th>euribor3m</th>\n",
       "      <th>pdays</th>\n",
       "    </tr>\n",
       "  </thead>\n",
       "  <tbody>\n",
       "    <tr>\n",
       "      <th>0</th>\n",
       "      <td>161770</td>\n",
       "      <td>1</td>\n",
       "      <td>0</td>\n",
       "      <td>2012-04-04</td>\n",
       "      <td>29</td>\n",
       "      <td>089b39d8-e4d0-461b-87d4-814d71e0e079</td>\n",
       "      <td>housemaid</td>\n",
       "      <td>married</td>\n",
       "      <td>basic 4y</td>\n",
       "      <td>No</td>\n",
       "      <td>No</td>\n",
       "      <td>No</td>\n",
       "      <td>telephone</td>\n",
       "      <td>261</td>\n",
       "      <td>1</td>\n",
       "      <td>0</td>\n",
       "      <td>nonexistent</td>\n",
       "      <td>1.1</td>\n",
       "      <td>93.994</td>\n",
       "      <td>-36.4</td>\n",
       "      <td>5191</td>\n",
       "      <td>no</td>\n",
       "      <td>2-agosto-2019</td>\n",
       "      <td>41.495</td>\n",
       "      <td>-71.233</td>\n",
       "      <td>agosto</td>\n",
       "      <td>2019.0</td>\n",
       "      <td>Adultos mayores</td>\n",
       "      <td>40.005436</td>\n",
       "      <td>4.857000</td>\n",
       "      <td>4.4</td>\n",
       "    </tr>\n",
       "    <tr>\n",
       "      <th>1</th>\n",
       "      <td>85477</td>\n",
       "      <td>1</td>\n",
       "      <td>1</td>\n",
       "      <td>2012-12-30</td>\n",
       "      <td>7</td>\n",
       "      <td>e9d37224-cb6f-4942-98d7-46672963d097</td>\n",
       "      <td>services</td>\n",
       "      <td>married</td>\n",
       "      <td>high school</td>\n",
       "      <td>noviembre</td>\n",
       "      <td>No</td>\n",
       "      <td>No</td>\n",
       "      <td>telephone</td>\n",
       "      <td>149</td>\n",
       "      <td>1</td>\n",
       "      <td>0</td>\n",
       "      <td>nonexistent</td>\n",
       "      <td>1.1</td>\n",
       "      <td>93.994</td>\n",
       "      <td>-36.4</td>\n",
       "      <td>5191</td>\n",
       "      <td>no</td>\n",
       "      <td>14-septiembre-2016</td>\n",
       "      <td>34.601</td>\n",
       "      <td>-83.923</td>\n",
       "      <td>septiembre</td>\n",
       "      <td>2016.0</td>\n",
       "      <td>Mediana edad</td>\n",
       "      <td>57.000000</td>\n",
       "      <td>3.603174</td>\n",
       "      <td>4.8</td>\n",
       "    </tr>\n",
       "  </tbody>\n",
       "</table>\n",
       "</div>"
      ],
      "text/plain": [
       "   income  kidhome  teenhome dt_customer  numwebvisitsmonth  \\\n",
       "0  161770        1         0  2012-04-04                 29   \n",
       "1   85477        1         1  2012-12-30                  7   \n",
       "\n",
       "                                     id        job  marital    education  \\\n",
       "0  089b39d8-e4d0-461b-87d4-814d71e0e079  housemaid  married     basic 4y   \n",
       "1  e9d37224-cb6f-4942-98d7-46672963d097   services  married  high school   \n",
       "\n",
       "     default housing loan    contact  duration  campaign  previous  \\\n",
       "0         No      No   No  telephone       261         1         0   \n",
       "1  noviembre      No   No  telephone       149         1         0   \n",
       "\n",
       "      poutcome  empvarrate  conspriceidx  consconfidx nremployed   y  \\\n",
       "0  nonexistent         1.1        93.994        -36.4       5191  no   \n",
       "1  nonexistent         1.1        93.994        -36.4       5191  no   \n",
       "\n",
       "                 date  latitude  longitude contact_month  contact_year  \\\n",
       "0       2-agosto-2019    41.495    -71.233        agosto        2019.0   \n",
       "1  14-septiembre-2016    34.601    -83.923    septiembre        2016.0   \n",
       "\n",
       "           age_cat        age  euribor3m  pdays  \n",
       "0  Adultos mayores  40.005436   4.857000    4.4  \n",
       "1     Mediana edad  57.000000   3.603174    4.8  "
      ]
     },
     "execution_count": 5,
     "metadata": {},
     "output_type": "execute_result"
    }
   ],
   "source": [
    "df = pd.read_csv(\"bank-additional-clean-nonulls.csv\", index_col = 0)\n",
    "df = df[df['age'] > 0]\n",
    "df['marital'] = df['marital'].replace({'noviembre': 'married'})\n",
    "df.head(2)"
   ]
  },
  {
   "cell_type": "markdown",
   "metadata": {},
   "source": [
    "## Receta: \n",
    "\n",
    "1. Definir el problema\n",
    "2. Extraccion de la muestra \n",
    "3. Calcular la media , error estandar \n",
    "4. Elegir el nivel de confianza: porcentaje de confianza con que voy a calcular la intervalo: 90, 95\n",
    "5. Aplicar la fórmula\n",
    "6. Resultado. "
   ]
  },
  {
   "cell_type": "code",
   "execution_count": 12,
   "metadata": {},
   "outputs": [
    {
     "name": "stdout",
     "output_type": "stream",
     "text": [
      "257.74681865767127\n",
      "255.69439777549098\n",
      "259.79923953985156\n"
     ]
    }
   ],
   "source": [
    "## INtervalo de confianza: \n",
    "\n",
    "##30 minutos —media\n",
    "## 90% ---15minutos a 45 minutos\n",
    "## 70% --- 20 minutos y 40 minutos\n",
    "\n",
    "media_duration = df['duration'].mean()\n",
    "media_duration\n",
    "\n",
    "error = stats.sem(df['duration'])\n",
    "error\n",
    "\n",
    "nivel_confianza = 0.9\n",
    "grados_de_libertad = len(df['duration'])-1\n",
    "\n",
    "valor_critico = stats.t.ppf((1 + nivel_confianza) / 2, df=grados_de_libertad)\n",
    "\n",
    "limite_inferior = media_duration-valor_critico*error\n",
    "limite_superior =  media_duration+valor_critico*error\n",
    "\n",
    "print(media_duration)\n",
    "print(limite_inferior)\n",
    "print(limite_superior)\n"
   ]
  },
  {
   "cell_type": "markdown",
   "metadata": {},
   "source": [
    "## Pruebas de hipotesis\n",
    "\n",
    "1. Plantear la hipotesis\n",
    "   - Hipotesis Nula: Los grupos son iguales\n",
    "   - Hipotesis Alternativa: Los grupos no son iguales\n",
    "2. Seleccionar los grupos\n",
    "3. Prueba estadistica: seleccionar una prueba para decidir si la hipotesis se cumple o no: t de student, main whitney, .... anova, chi caudrado...\n",
    "   1. Condiciones a comprobar\n",
    "      1. Datos normales o no: shapiro, kolmogorov\n",
    "      2. Homogenidad de varianza: levene, barlett\n",
    "4. Interpreto de los resultados\n",
    "\n",
    "\n"
   ]
  },
  {
   "cell_type": "code",
   "execution_count": 16,
   "metadata": {},
   "outputs": [],
   "source": [
    "## dos grupos\n",
    " # Poner las hipotesis:\n",
    "## H0: no hay diferencias significativas\n",
    "# H1: hay diferencias significativas\n",
    "\n",
    "grupo_1 = df[df['education']== 'basic 4y'][\"income\"]\n",
    "grupo_2 = df[df['education']== 'high school'][\"income\"]"
   ]
  },
  {
   "cell_type": "markdown",
   "metadata": {},
   "source": [
    "\n",
    "-  Normalidad de los datos: verificar si los datos siguen una distribución normal\n",
    "   -  Prueba de Shapiro-Wilk:\n",
    "      - Cuándo usarla:\n",
    "        - Tamaños de muestra pequeños o medianos (idealmente entre 3 y 50 observaciones).\n",
    "      - Hipótesis:\n",
    "        - H0: Los datos siguen una distribución normal.\n",
    "        - H1: Los datos no siguen una distribución normal.\n",
    "      - \n",
    "   -  Prueba de Kolmogorov-Smirnov\n",
    "      -  Cuándo usarla\n",
    "         -  Tamaños de muestra grandes (más de 50 observaciones).\n",
    "           - Comparar si una muestra sigue una distribución específica (no solo normal). Por ejemplo: comparar si los datos siguen una distribución normal\n",
    "      -  Hipótesis:\n",
    "        - H0: Los datos siguen una distribución normal.\n",
    "        - H1: Los datos no siguen una distribución normal.\n"
   ]
  },
  {
   "cell_type": "code",
   "execution_count": 19,
   "metadata": {},
   "outputs": [
    {
     "name": "stdout",
     "output_type": "stream",
     "text": [
      "Valores no normales\n"
     ]
    }
   ],
   "source": [
    "## Aplicar test shapiro, kolmogorov sensibles al tamaño de la muestra, grupo grande kol, grupo pequeño shapiro\n",
    "if len(grupo_1)> 5000:\n",
    "    p_valor= stats.kstest(grupo_1, 'norm').pvalue\n",
    "else:\n",
    "    p_valor = stats.shapiro(grupo_1).pvalue\n",
    "\n",
    "\n",
    "if p_valor > 0.05: \n",
    "    print(\"Valores normales\")\n",
    "else:\n",
    "     print(\"Valores no normales\")"
   ]
  },
  {
   "cell_type": "code",
   "execution_count": 20,
   "metadata": {},
   "outputs": [
    {
     "name": "stdout",
     "output_type": "stream",
     "text": [
      "Valores no normales\n"
     ]
    }
   ],
   "source": [
    "if len(grupo_2)> 5000:\n",
    "    p_valor= stats.kstest(grupo_2, 'norm').pvalue\n",
    "else:\n",
    "    p_valor = stats.shapiro(grupo_2).pvalue\n",
    "\n",
    "\n",
    "if p_valor > 0.05: \n",
    "    print(\"Valores normales\")\n",
    "else:\n",
    "     print(\"Valores no normales\")"
   ]
  },
  {
   "cell_type": "markdown",
   "metadata": {},
   "source": [
    "-  Homogeneidad de varianza: verificar si las varianzas son similares entre los grupos \n",
    "      - H0: Las varianzas de los grupos son iguales (homogeneas).\n",
    "      - H1: Los datos no siguen la distribución esperada.\n",
    "    \n",
    "    -  Prueba de Levene\n",
    "         -  Datos no normales\n",
    "         -  Hay outliers\n",
    "         -  No estás segura de la situación\n",
    "   -  Prueba de Barlett\n",
    "         -  los datos son normales"
   ]
  },
  {
   "cell_type": "code",
   "execution_count": 21,
   "metadata": {},
   "outputs": [
    {
     "name": "stdout",
     "output_type": "stream",
     "text": [
      "Varianzas no son iguales\n"
     ]
    }
   ],
   "source": [
    "## Mirar la homegeneidad de las varianzas\n",
    "\n",
    "p_valor_varianza = stats.levene(grupo_1, grupo_2).pvalue\n",
    "p_valor_varianza\n",
    "\n",
    "if(p_valor_varianza> 0.05):\n",
    "    print(\"Varianzas iguales, cumple hipótesis nula\")\n",
    "else:\n",
    "    print(\"Varianzas no son iguales, cumple hipótesis nula\")"
   ]
  },
  {
   "cell_type": "code",
   "execution_count": 22,
   "metadata": {},
   "outputs": [
    {
     "name": "stdout",
     "output_type": "stream",
     "text": [
      "Se cumple mi hipotesis nula\n"
     ]
    }
   ],
   "source": [
    "## aplico el test estadistico\n",
    "t_stat, p_valor=stats.mannwhitneyu(grupo_1, grupo_2)\n",
    "if(p_valor > 0.05):\n",
    "    print(\"Se cumple mi hipotesis nula\")\n",
    "else: \n",
    "    print(\"No se cumple mi hipotesis nula\")"
   ]
  },
  {
   "cell_type": "code",
   "execution_count": 23,
   "metadata": {},
   "outputs": [],
   "source": [
    "def prueba_hipotesis(*args):\n",
    "    \"\"\"\n",
    "    Realiza una prueba de hipótesis para comparar grupos.\n",
    "    1. Primero verifica si los datos son normales usando el test de Shapiro-Wilk o Kolmogorov-Smirnov.\n",
    "    2. Si los datos son normales, usa Bartlett para probar igualdad de varianzas. Si no son normales, usa Levene.\n",
    "    3. Si las varianzas son iguales, usa el t-test de Student; si no, usa la versión de Welch.\n",
    "    4. Si los datos no son normales, usa el test de Mann-Whitney (alternativa no paramétrica).\n",
    "\n",
    "    Parámetros:\n",
    "    *args: listas o arrays con los datos de cada grupo.\n",
    "\n",
    "    Retorna:\n",
    "    dict con resultados del test de normalidad, varianza e hipótesis.\n",
    "    \"\"\"\n",
    "    \n",
    "    # Verificar si hay al menos dos grupos\n",
    "    if len(args) < 2:\n",
    "        raise ValueError(\"Se necesitan al menos dos conjuntos de datos para realizar la prueba.\")\n",
    "    \n",
    "    # Comprobar normalidad en cada grupo\n",
    "    normalidad = []\n",
    "    for grupo in args:\n",
    "        if len(grupo) > 50:\n",
    "            p_valor_norm = stats.kstest(grupo, 'norm').pvalue  # Kolmogorov-Smirnov si n > 50\n",
    "        else:\n",
    "            p_valor_norm = stats.shapiro(grupo).pvalue  # Shapiro-Wilk si n <= 50\n",
    "        normalidad.append(p_valor_norm > 0.05)\n",
    "\n",
    "    datos_normales = all(normalidad)  # True si todos los grupos son normales\n",
    "\n",
    "    # Prueba de igualdad de varianzas\n",
    "    if datos_normales:\n",
    "        p_valor_varianza = stats.bartlett(*args).pvalue  # Test de Bartlett si los datos son normales\n",
    "    else:\n",
    "        p_valor_varianza = stats.levene(*args, center=\"median\").pvalue  # Test de Levene si no son normales\n",
    "\n",
    "    varianzas_iguales = p_valor_varianza > 0.05\n",
    "\n",
    "    # Aplicar el test adecuado\n",
    "    if datos_normales:\n",
    "        if varianzas_iguales:\n",
    "            t_stat, p_valor = stats.ttest_ind(*args, equal_var=True)\n",
    "            test_usado = \"t-test de Student (varianzas iguales)\"\n",
    "        else:\n",
    "            t_stat, p_valor = stats.ttest_ind(*args, equal_var=False)\n",
    "            test_usado = \"t-test de Welch (varianzas desiguales)\"\n",
    "    else:\n",
    "        t_stat, p_valor = stats.mannwhitneyu(*args)\n",
    "        test_usado = \"Mann-Whitney U (prueba no paramétrica)\"\n",
    "\n",
    "    # Nivel de significancia\n",
    "    alfa = 0.05\n",
    "\n",
    "    # Resultados\n",
    "    resultado = {\n",
    "        \"Test de Normalidad\": normalidad,\n",
    "        \"Datos Normales\": datos_normales,\n",
    "        \"p-valor Varianza\": p_valor_varianza,\n",
    "        \"Varianzas Iguales\": varianzas_iguales,\n",
    "        \"Test Usado\": test_usado,\n",
    "        \"Estadístico\": t_stat,\n",
    "        \"p-valor\": p_valor,\n",
    "        \"Conclusión\": \"Rechazamos H0 (Diferencias significativas)\" if p_valor < alfa else \"No se rechaza H0 (No hay diferencias significativas)\"\n",
    "    }\n",
    "\n",
    "    # Imprimir resultados de manera más clara\n",
    "    print(\"\\n📊 **Resultados de la Prueba de Hipótesis** 📊\")\n",
    "    print(f\"✅ Test de Normalidad: {'Sí' if datos_normales else 'No'}\")\n",
    "    print(f\"   - Normalidad por grupo: {normalidad}\")\n",
    "    print(f\"✅ Test de Varianza: {'Iguales' if varianzas_iguales else 'Desiguales'} (p = {p_valor_varianza:.4f})\")\n",
    "    print(f\"✅ Test aplicado: {test_usado}\")\n",
    "    print(f\"📉 Estadístico: {t_stat:.4f}, p-valor: {p_valor:.4f}\")\n",
    "    print(f\"🔍 Conclusión: {resultado['Conclusión']}\\n\")\n",
    "\n",
    "    return resultado"
   ]
  },
  {
   "cell_type": "code",
   "execution_count": 24,
   "metadata": {},
   "outputs": [
    {
     "name": "stdout",
     "output_type": "stream",
     "text": [
      "\n",
      "📊 **Resultados de la Prueba de Hipótesis** 📊\n",
      "✅ Test de Normalidad: No\n",
      "   - Normalidad por grupo: [False, False]\n",
      "✅ Test de Varianza: Desiguales (p = 0.0111)\n",
      "✅ Test aplicado: Mann-Whitney U (prueba no paramétrica)\n",
      "📉 Estadístico: 21152249.0000, p-valor: 0.0521\n",
      "🔍 Conclusión: No se rechaza H0 (No hay diferencias significativas)\n",
      "\n"
     ]
    },
    {
     "data": {
      "text/plain": [
       "{'Test de Normalidad': [False, False],\n",
       " 'Datos Normales': False,\n",
       " 'p-valor Varianza': 0.011100694428226266,\n",
       " 'Varianzas Iguales': False,\n",
       " 'Test Usado': 'Mann-Whitney U (prueba no paramétrica)',\n",
       " 'Estadístico': 21152249.0,\n",
       " 'p-valor': 0.052125869808146034,\n",
       " 'Conclusión': 'No se rechaza H0 (No hay diferencias significativas)'}"
      ]
     },
     "execution_count": 24,
     "metadata": {},
     "output_type": "execute_result"
    }
   ],
   "source": [
    "prueba_hipotesis(grupo_1, grupo_2)"
   ]
  },
  {
   "cell_type": "code",
   "execution_count": 25,
   "metadata": {},
   "outputs": [
    {
     "name": "stdout",
     "output_type": "stream",
     "text": [
      "\n",
      "📊 **Resultados de la Prueba de Hipótesis** 📊\n",
      "✅ Test de Normalidad: No\n",
      "   - Normalidad por grupo: [False, False]\n",
      "✅ Test de Varianza: Iguales (p = 0.1008)\n",
      "✅ Test aplicado: Mann-Whitney U (prueba no paramétrica)\n",
      "📉 Estadístico: 157034711.0000, p-valor: 0.4687\n",
      "🔍 Conclusión: No se rechaza H0 (No hay diferencias significativas)\n",
      "\n"
     ]
    },
    {
     "data": {
      "text/plain": [
       "{'Test de Normalidad': [False, False],\n",
       " 'Datos Normales': False,\n",
       " 'p-valor Varianza': 0.10084402738150801,\n",
       " 'Varianzas Iguales': True,\n",
       " 'Test Usado': 'Mann-Whitney U (prueba no paramétrica)',\n",
       " 'Estadístico': 157034711.0,\n",
       " 'p-valor': 0.4686607752659886,\n",
       " 'Conclusión': 'No se rechaza H0 (No hay diferencias significativas)'}"
      ]
     },
     "execution_count": 25,
     "metadata": {},
     "output_type": "execute_result"
    }
   ],
   "source": [
    "grupo_casadas = df[df[\"marital\"] == \"married\"][\"duration\"]\n",
    "grupo_solteras = df[df[\"marital\"] == \"single\"][\"duration\"]\n",
    "prueba_hipotesis(grupo_casadas, grupo_solteras)"
   ]
  }
 ],
 "metadata": {
  "kernelspec": {
   "display_name": "base",
   "language": "python",
   "name": "python3"
  },
  "language_info": {
   "codemirror_mode": {
    "name": "ipython",
    "version": 3
   },
   "file_extension": ".py",
   "mimetype": "text/x-python",
   "name": "python",
   "nbconvert_exporter": "python",
   "pygments_lexer": "ipython3",
   "version": "3.9.7"
  }
 },
 "nbformat": 4,
 "nbformat_minor": 2
}
