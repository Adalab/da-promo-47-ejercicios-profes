{
 "cells": [
  {
   "cell_type": "code",
   "execution_count": 1,
   "id": "3884d55d",
   "metadata": {},
   "outputs": [],
   "source": [
    "import numpy as np"
   ]
  },
  {
   "cell_type": "markdown",
   "id": "8129003c",
   "metadata": {},
   "source": [
    "# NumPy\n",
    "\n",
    "- Permite crear y manipular arrays multidimensionales, que son estructuras similares a listas pero mucho más eficientes para cálculos matemáticos y científicos.\n",
    "- arrays es similar a lista, es un conjunto de datos\n",
    "- valores del mismo tipo\n",
    "\n",
    "## Características, propiedades --> no llevan paréntesis\n",
    "- .ndim: cantidad de dimensiones de la matriz\n",
    "- .size: tamaño, cantidad de elementos de la matriz\n",
    "- .shape: forma de la matriz\n",
    "- .dtype: muestra el tipo de datos de la matriz\n",
    "    \n",
    "## Creación de un array de numpy\n",
    "  - np.array([]): crea un array a partir de una lista de python\n",
    "  - np.random.rand: permite crear numeros aleatorio    \n",
    "  - np.arange(10): nos devuelve un array unidimensional, con numero s consecutivos (1 al 10)\n",
    "  - np.zeros\n",
    "  - np.ones\n",
    "  - np.empty\n",
    "\n",
    "- Nomenclatura: (filas,columnas)\n",
    "\n",
    "\n"
   ]
  },
  {
   "cell_type": "code",
   "execution_count": 23,
   "id": "8c0a5c1b",
   "metadata": {},
   "outputs": [
    {
     "name": "stdout",
     "output_type": "stream",
     "text": [
      "[34 56 71 98 10]\n",
      "\n",
      "\n",
      "segundo array\n",
      "[[23 34 56 68 54]\n",
      " [67 78 90 54 13]]\n"
     ]
    }
   ],
   "source": [
    "# Crear un array unidimensional a partir de una lista\n",
    "lista1= [34, 56, 71, 98, 10]\n",
    "array1D = np.array(lista1)\n",
    "print(array1D)\n",
    "\n",
    "# Crear un array bidimensional a partir de una lista\n",
    "lista2 = [[23, 34, 56, 68, 54],[67, 78, 90, 54, 13]]\n",
    "array2D = np.array(lista2)\n",
    "print(\"\\n\")\n",
    "print (\"segundo array\")\n",
    "print(array2D)\n",
    "# Crear un array de ceros\n",
    "# Crear un array de unos\n",
    "# Crear un array de valores aleatorios\n",
    "# Propiedades del array >"
   ]
  },
  {
   "cell_type": "code",
   "execution_count": 6,
   "id": "5a6a35a7",
   "metadata": {},
   "outputs": [
    {
     "name": "stdout",
     "output_type": "stream",
     "text": [
      "1\n",
      "5\n",
      "(5,)\n",
      "int64\n"
     ]
    }
   ],
   "source": [
    "print(array1D.ndim)\n",
    "print(array1D.size)\n",
    "print(array1D.shape)\n",
    "print(array1D.dtype)\n",
    " "
   ]
  },
  {
   "cell_type": "code",
   "execution_count": 9,
   "id": "2fec41cf",
   "metadata": {},
   "outputs": [
    {
     "name": "stdout",
     "output_type": "stream",
     "text": [
      "2\n",
      "10\n",
      "(2, 5)\n",
      "int64\n"
     ]
    }
   ],
   "source": [
    "print(array2D.ndim)\n",
    "print(array2D.size)\n",
    "print(array2D.shape)\n",
    "print(array2D.dtype)"
   ]
  },
  {
   "cell_type": "code",
   "execution_count": 13,
   "id": "50f732d4",
   "metadata": {},
   "outputs": [
    {
     "name": "stdout",
     "output_type": "stream",
     "text": [
      "[ 0  1  2  3  4  5  6  7  8  9 10 11 12 13 14 15 16 17 18 19]\n"
     ]
    }
   ],
   "source": [
    "array_consecutivos = np.arange(20)\n",
    "print(array_consecutivos)"
   ]
  },
  {
   "cell_type": "code",
   "execution_count": 14,
   "id": "582f20ec",
   "metadata": {},
   "outputs": [
    {
     "name": "stdout",
     "output_type": "stream",
     "text": [
      "[[0. 0. 0.]\n",
      " [0. 0. 0.]\n",
      " [0. 0. 0.]\n",
      " [0. 0. 0.]]\n"
     ]
    }
   ],
   "source": [
    "array_zeros = np.zeros((4,3))\n",
    "print(array_zeros)"
   ]
  },
  {
   "cell_type": "code",
   "execution_count": 15,
   "id": "beb804e3",
   "metadata": {},
   "outputs": [
    {
     "name": "stdout",
     "output_type": "stream",
     "text": [
      "[[0. 0. 0.]\n",
      " [0. 0. 0.]\n",
      " [0. 0. 0.]\n",
      " [0. 0. 0.]]\n"
     ]
    }
   ],
   "source": [
    "array_zeros = np.empty((4,3))\n",
    "print(array_zeros)"
   ]
  },
  {
   "cell_type": "code",
   "execution_count": 20,
   "id": "234ef914",
   "metadata": {},
   "outputs": [
    {
     "name": "stdout",
     "output_type": "stream",
     "text": [
      "4\n"
     ]
    }
   ],
   "source": [
    "# array con valores aleatorios\n",
    "array_aleatorio_1 = np.random.randint(7) # array de 1 elem, con 0 incluido y 7 excluido\n",
    "print(array_aleatorio_1)"
   ]
  },
  {
   "cell_type": "code",
   "execution_count": 22,
   "id": "c61822f2",
   "metadata": {},
   "outputs": [
    {
     "name": "stdout",
     "output_type": "stream",
     "text": [
      "[[20 36 36 36 26]\n",
      " [32 32 25 34 30]\n",
      " [20 30 37 39 32]\n",
      " [36 34 39 32 34]\n",
      " [36 34 26 27 24]]\n"
     ]
    }
   ],
   "source": [
    "## sintanxis(numeroempiezo, numerollego, size, tipo)\n",
    "array_aleatorio_2 = np.random.randint(20, 40, (5,4)) # array de 12 elem, con 20 incluido y 40 excluido\n",
    "print(array_aleatorio_2)"
   ]
  },
  {
   "cell_type": "markdown",
   "id": "008d2355",
   "metadata": {},
   "source": [
    "# Indexación en Arrays\n",
    "\n",
    "  - array 1d -> array[0] para obtener el primer elemento, igual que en una lista[start:stop:step]\n",
    "  - array 2d -> array[0,0] para obtener el primer elemento [filas,columnas] [start:stop:step,start:stop:step]\n",
    "  - array 3d -> array[0,0,0]  para obtener el primer elemento\n",
    "  \n",
    "\n",
    "  ## Slicing\n",
    "  - array[0] accede al primer elemento\n",
    "  - array[0:2] --> nos devuelve los elementos de la posición 0 y 1\n",
    "  - array[1:4] obtiene los elementos desde el índice 1 hasta el 3 (el índice final no se incluye)\n",
    "  - array[0:2,0:2] --> nos devuelve los elementos de la posición 0 y 1 de las filas y columnas  \n",
    "  - array[0:5:2] obtiene elementos desde el índice 0 hasta el 4, con un paso de 2 (es decir, toma cada segundo elemento).\n",
    "  - array[-1] accede al último elemento, y array[-3:] obtiene los últimos tres elementos.\n",
    "  - array[1:4] = [10, 20, 30] reemplaza los elementos en los índices 1, 2 y 3 con los valores 10, 20 y 30."
   ]
  },
  {
   "cell_type": "code",
   "execution_count": 26,
   "id": "74a95505",
   "metadata": {},
   "outputs": [
    {
     "name": "stdout",
     "output_type": "stream",
     "text": [
      "34\n",
      "34\n",
      "78\n"
     ]
    }
   ],
   "source": [
    "print (array1D[0])\n",
    "print (array2D[0][1])\n",
    "print(array2D[1,1])\n"
   ]
  },
  {
   "cell_type": "code",
   "execution_count": null,
   "id": "a91aa635",
   "metadata": {},
   "outputs": [],
   "source": [
    "array2D[3,2]"
   ]
  },
  {
   "cell_type": "code",
   "execution_count": 31,
   "id": "921a61d3",
   "metadata": {},
   "outputs": [
    {
     "data": {
      "text/plain": [
       "array([34, 56])"
      ]
     },
     "execution_count": 31,
     "metadata": {},
     "output_type": "execute_result"
    }
   ],
   "source": [
    "array1D[0:2]"
   ]
  },
  {
   "cell_type": "code",
   "execution_count": 29,
   "id": "ab630931",
   "metadata": {},
   "outputs": [
    {
     "data": {
      "text/plain": [
       "array([[34, 56],\n",
       "       [78, 90]])"
      ]
     },
     "execution_count": 29,
     "metadata": {},
     "output_type": "execute_result"
    }
   ],
   "source": [
    "# sintaxis(star:stop:step, star:stop:step)\n",
    "array2D[:, 1:3]"
   ]
  },
  {
   "cell_type": "code",
   "execution_count": 32,
   "id": "1e57a65a",
   "metadata": {},
   "outputs": [
    {
     "data": {
      "text/plain": [
       "array([[23, 34, 56, 68, 54]])"
      ]
     },
     "execution_count": 32,
     "metadata": {},
     "output_type": "execute_result"
    }
   ],
   "source": [
    "array2D[0:1]"
   ]
  },
  {
   "cell_type": "code",
   "execution_count": 33,
   "id": "1a36e2ad",
   "metadata": {},
   "outputs": [
    {
     "data": {
      "text/plain": [
       "array([[34, 56, 68, 54],\n",
       "       [78, 90, 54, 13]])"
      ]
     },
     "execution_count": 33,
     "metadata": {},
     "output_type": "execute_result"
    }
   ],
   "source": [
    "## todas las filas de la columna 1 hasta el final\n",
    "array2D[:, 1:]"
   ]
  },
  {
   "cell_type": "code",
   "execution_count": 35,
   "id": "bda31b99",
   "metadata": {},
   "outputs": [
    {
     "data": {
      "text/plain": [
       "array([[23, 56, 54],\n",
       "       [67, 90, 13]])"
      ]
     },
     "execution_count": 35,
     "metadata": {},
     "output_type": "execute_result"
    }
   ],
   "source": [
    "## todas las filas y las 3 ultimas columnas\n",
    "array2D[:, -3:]\n",
    "array2D[:, ::2]"
   ]
  },
  {
   "cell_type": "markdown",
   "id": "e3be95b8",
   "metadata": {},
   "source": [
    "## Filtrado con `np.where()`\n",
    "- Realiza una evaluación condicional sobre un array. \n",
    "- La función `np.where()` devuelve un nuevo array con los elementos seleccionados según la condición especificada.\n",
    "- Sintaxis: np.where(condición, valor_si_verdadero, valor_si_falso)\n",
    " - np.where(array > 5) --> nos devuelve los valores que cumplen la condición\n",
    "  - np.where(array > 5, \"a\", \"b\") --> nos devuelve a si se cumple la condición y b si no se cumple"
   ]
  },
  {
   "cell_type": "code",
   "execution_count": 43,
   "id": "fcb3b4bb",
   "metadata": {},
   "outputs": [
    {
     "name": "stdout",
     "output_type": "stream",
     "text": [
      "(array([0, 0, 0, 0, 1, 1, 1, 1]), array([1, 2, 3, 4, 0, 1, 2, 3]))\n"
     ]
    }
   ],
   "source": [
    "indices_mayores = np.where(array2D > 30)\n",
    "print(indices_mayores) ## primera array contiene las filas, segundo array contiene alas columnas\n",
    "\n"
   ]
  },
  {
   "cell_type": "code",
   "execution_count": 40,
   "id": "4d8e5f37",
   "metadata": {},
   "outputs": [
    {
     "data": {
      "text/plain": [
       "array([['joven', 'adulto', 'adulto', 'adulto', 'adulto'],\n",
       "       ['adulto', 'adulto', 'adulto', 'adulto', 'joven']], dtype='<U6')"
      ]
     },
     "execution_count": 40,
     "metadata": {},
     "output_type": "execute_result"
    }
   ],
   "source": [
    "## np.where (condicion, si se cumple, sino cumple)\n",
    "indices_mayores_2 = np.where(array2D > 30, \"adulto\", \"joven\")\n",
    "indices_mayores_2"
   ]
  },
  {
   "cell_type": "code",
   "execution_count": 41,
   "id": "8dac8353",
   "metadata": {},
   "outputs": [
    {
     "data": {
      "text/plain": [
       "array([[50, 34, 56, 68, 54],\n",
       "       [67, 78, 90, 54, 50]])"
      ]
     },
     "execution_count": 41,
     "metadata": {},
     "output_type": "execute_result"
    }
   ],
   "source": [
    "indices_mayores_3 = np.where(array2D > 30, array2D, 50)\n",
    "indices_mayores_3"
   ]
  },
  {
   "cell_type": "code",
   "execution_count": 42,
   "id": "2672f50c",
   "metadata": {},
   "outputs": [
    {
     "data": {
      "text/plain": [
       "array([['b', 'adulto', 'adulto', 'adulto', 'adulto'],\n",
       "       ['adulto', 'adulto', 'adulto', 'adulto', 'c']], dtype='<U6')"
      ]
     },
     "execution_count": 42,
     "metadata": {},
     "output_type": "execute_result"
    }
   ],
   "source": [
    "indices_mayores_4 = np.where(array2D > 30, \"adulto\", np.where(array2D> 20, \"b\", \"c\"))\n",
    "indices_mayores_4"
   ]
  },
  {
   "cell_type": "code",
   "execution_count": 39,
   "id": "8a59655d",
   "metadata": {},
   "outputs": [
    {
     "data": {
      "text/plain": [
       "array([[False,  True,  True,  True,  True],\n",
       "       [ True,  True,  True,  True, False]])"
      ]
     },
     "execution_count": 39,
     "metadata": {},
     "output_type": "execute_result"
    }
   ],
   "source": [
    "## mascaras\n",
    "mascara = array2D > 30\n",
    "mascara"
   ]
  },
  {
   "cell_type": "markdown",
   "id": "156d29e9",
   "metadata": {},
   "source": [
    "## Operadores lógicos\n",
    "- Seleccionar valores basados en dos condiciones\n",
    "  - Operador `&` para indicar que queremos que se cumplan las dos condiciones => `and`\n",
    "  - Operador `|` para indicar que se cumpla una condición u otra => `or`"
   ]
  },
  {
   "cell_type": "code",
   "execution_count": 45,
   "id": "0a2a6115",
   "metadata": {},
   "outputs": [
    {
     "data": {
      "text/plain": [
       "True"
      ]
     },
     "execution_count": 45,
     "metadata": {},
     "output_type": "execute_result"
    }
   ],
   "source": [
    "34 in array1D"
   ]
  },
  {
   "cell_type": "code",
   "execution_count": 48,
   "id": "3f1a04d9",
   "metadata": {},
   "outputs": [
    {
     "data": {
      "text/plain": [
       "True"
      ]
     },
     "execution_count": 48,
     "metadata": {},
     "output_type": "execute_result"
    }
   ],
   "source": [
    "(34 in array1D) | (53 in array1D)"
   ]
  },
  {
   "cell_type": "code",
   "execution_count": 49,
   "id": "1f623f35",
   "metadata": {},
   "outputs": [
    {
     "name": "stdout",
     "output_type": "stream",
     "text": [
      "[68 67 78 90]\n"
     ]
    }
   ],
   "source": [
    "mascara = (array2D > 30) & (array2D >60)\n",
    "print(array2D[mascara])"
   ]
  },
  {
   "cell_type": "markdown",
   "id": "c08943a2",
   "metadata": {},
   "source": [
    "# Operaciones Aritméticas con arrays\n",
    "\n",
    "Operaciones \n",
    "  - Se suelen utilizar con arrays con las mismas dimensiones\n",
    "  - Sumar arrays\n",
    "  - Restar arrays\n",
    "  - Multiplicar arrays\n",
    "  - Dividir arrays\n",
    "  - Elevar arrays\n",
    "  - Redondear arrays"
   ]
  },
  {
   "cell_type": "code",
   "execution_count": 51,
   "id": "2820165b",
   "metadata": {},
   "outputs": [
    {
     "data": {
      "text/plain": [
       "array([[24, 22, 33, 43, 44],\n",
       "       [38, 36, 34, 23, 23]])"
      ]
     },
     "execution_count": 51,
     "metadata": {},
     "output_type": "execute_result"
    }
   ],
   "source": [
    "array2D2 = np.random.randint(20, 50, size=(2,5))\n",
    "array2D2 "
   ]
  },
  {
   "cell_type": "code",
   "execution_count": 52,
   "id": "c0586ef0",
   "metadata": {},
   "outputs": [
    {
     "data": {
      "text/plain": [
       "array([[ 47,  56,  89, 111,  98],\n",
       "       [105, 114, 124,  77,  36]])"
      ]
     },
     "execution_count": 52,
     "metadata": {},
     "output_type": "execute_result"
    }
   ],
   "source": [
    "suma = array2D + array2D2 \n",
    "suma\n",
    "\n"
   ]
  },
  {
   "cell_type": "code",
   "execution_count": 53,
   "id": "3262d73d",
   "metadata": {},
   "outputs": [
    {
     "data": {
      "text/plain": [
       "array([[ 47,  56,  89, 111,  98],\n",
       "       [105, 114, 124,  77,  36]])"
      ]
     },
     "execution_count": 53,
     "metadata": {},
     "output_type": "execute_result"
    }
   ],
   "source": [
    "np.add (array2D2, array2D)"
   ]
  },
  {
   "cell_type": "code",
   "execution_count": 54,
   "id": "3d0911c2",
   "metadata": {},
   "outputs": [
    {
     "name": "stdout",
     "output_type": "stream",
     "text": [
      "[[230 340 560 680 540]\n",
      " [670 780 900 540 130]]\n"
     ]
    }
   ],
   "source": [
    "## escalar: multiplicar cada elemento por un valor especifico\n",
    "escalar = 10\n",
    "print (array2D*escalar)\n"
   ]
  },
  {
   "cell_type": "markdown",
   "id": "cea78d48",
   "metadata": {},
   "source": [
    "# Cálculos Estadísticos básicos\n",
    "- `np.mean(array)` --> calcula la media de los elementos del array\n",
    "- `np.median(array)` --> calcula la mediana de los elementos del array\n",
    "- `np.std(array)` --> calcula la desviación estándar de los elementos del array\n",
    "- `np.var(array)` --> calcula la varianza de los elementos del array\n",
    "- `np.sum(array)` --> calcula la suma de los elementos del array\n",
    "- np.min(array) --> calcula el valor mínimo del array\n",
    "- np.max(array) --> calcula el valor máximo del array"
   ]
  },
  {
   "cell_type": "code",
   "execution_count": 55,
   "id": "7f36e26d",
   "metadata": {},
   "outputs": [
    {
     "data": {
      "text/plain": [
       "537"
      ]
     },
     "execution_count": 55,
     "metadata": {},
     "output_type": "execute_result"
    }
   ],
   "source": [
    "np.sum(array2D)\n",
    "np.min(array2D)"
   ]
  },
  {
   "cell_type": "code",
   "execution_count": 57,
   "id": "714dbe06",
   "metadata": {},
   "outputs": [
    {
     "data": {
      "text/plain": [
       "array([68, 90])"
      ]
     },
     "execution_count": 57,
     "metadata": {},
     "output_type": "execute_result"
    }
   ],
   "source": [
    "array2D.max(axis=1)"
   ]
  },
  {
   "cell_type": "code",
   "execution_count": 59,
   "id": "e761abea",
   "metadata": {},
   "outputs": [
    {
     "data": {
      "text/plain": [
       "array([67, 78, 90, 68, 54])"
      ]
     },
     "execution_count": 59,
     "metadata": {},
     "output_type": "execute_result"
    }
   ],
   "source": [
    "array2D.max(axis=0)"
   ]
  },
  {
   "cell_type": "markdown",
   "id": "e2d750f2",
   "metadata": {},
   "source": [
    "# Métodos \n",
    "- `array.reshape()` --> cambia la forma de la matriz, # El número de elementos tiene que coincidir con la forma del array!!!\n",
    "- `array.flatten()` --> convierte la matriz en un array de una sola dimensión\n",
    "- `array.sort()` --> ordena los elementos de la matriz\n"
   ]
  },
  {
   "cell_type": "code",
   "execution_count": 61,
   "id": "d8c14cf1",
   "metadata": {},
   "outputs": [
    {
     "data": {
      "text/plain": [
       "array([ 0,  1,  2,  3,  4,  5,  6,  7,  8,  9, 10, 11, 12, 13, 14, 15, 16,\n",
       "       17, 18, 19])"
      ]
     },
     "execution_count": 61,
     "metadata": {},
     "output_type": "execute_result"
    }
   ],
   "source": [
    "array1d1 = np.arange(20)\n",
    "array1d1"
   ]
  },
  {
   "cell_type": "code",
   "execution_count": 62,
   "id": "8a3216af",
   "metadata": {},
   "outputs": [
    {
     "data": {
      "text/plain": [
       "array([[ 0,  1,  2,  3,  4],\n",
       "       [ 5,  6,  7,  8,  9],\n",
       "       [10, 11, 12, 13, 14],\n",
       "       [15, 16, 17, 18, 19]])"
      ]
     },
     "execution_count": 62,
     "metadata": {},
     "output_type": "execute_result"
    }
   ],
   "source": [
    "array1d1.reshape(4,5)"
   ]
  }
 ],
 "metadata": {
  "kernelspec": {
   "display_name": "base",
   "language": "python",
   "name": "python3"
  },
  "language_info": {
   "codemirror_mode": {
    "name": "ipython",
    "version": 3
   },
   "file_extension": ".py",
   "mimetype": "text/x-python",
   "name": "python",
   "nbconvert_exporter": "python",
   "pygments_lexer": "ipython3",
   "version": "3.9.7"
  }
 },
 "nbformat": 4,
 "nbformat_minor": 5
}
