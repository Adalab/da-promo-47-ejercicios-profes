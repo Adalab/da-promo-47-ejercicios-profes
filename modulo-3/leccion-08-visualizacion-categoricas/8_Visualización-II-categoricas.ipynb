{
 "cells": [
  {
   "cell_type": "markdown",
   "metadata": {},
   "source": [
    "TIPOS DE ANÁLISIS\n",
    "\n",
    "- **Inspección general** del dataset: tamaño, nombre de variables, tipo, etc.\n",
    "\n",
    "- **Análisis** para los diferentes tipos de **variables**:\n",
    "    - **Análisis Univariable**: su objetivo principal es describir y resumir los datos de una sóla variable y entender su distribución y tendencias para identificar patrones, valores atípicos y características como media, moda, varianza, etc.\n",
    "\n",
    "\n",
    "    - **Análisis Bivariable**: su objetivo permite entender cómo dos variables se relacionan entre sí, pudiendo identificar correlaciones, tendencias y posibles causas y efectos.\n",
    "\n",
    "    - **Análisis Multivariable**: su objetivo es entender las relaciones e interaciones entre tres o más variables en un conjunto de datos. Se utiliza para identificar patrones, tendencias y correlaciones entre variables, así como para construir modelos que permitan predecir el comportamiento de una variable en función de otras."
   ]
  },
  {
   "cell_type": "markdown",
   "metadata": {},
   "source": [
    "ANÁLISIS DEPENDIENDO DEL TIPO DE VARIABLE\n",
    "\n",
    "Los análisis univariables, bivariables y multivariables usan diferentes técnicas dependiendo del tipo de variables: numéricas y categóricas:\n",
    "\n",
    "- Variables Numéricas:\n",
    "    - Análisis Univariable:\n",
    "        - Histogramas (histplot): distribución de una variable, Divide los datos en intervalos (bins) y cuenta cuántos valores caen en cada uno. Representa la distribución de frecuencias de una variable numérica.\n",
    "\n",
    "        - Boxplots (boxplot): distribucción, incluye mediana y valores atipicos\n",
    "        - Violinplots: podemos ver la distribucción(histograma), incluye mediana y valores atipicos, la caja y bigotes (boxplot)\n",
    "        - Descriptivos\n",
    "    - Análisis Bivariable:\n",
    "        - Gráficos de dispersión (scatterplot)\n",
    "        - Regresión (Reg plot)\n",
    "        - Coeficientes correlación (Matriz de correlación)\n",
    "    \n",
    "\n",
    "- Variables Categóricas\n",
    "    - Análisis Univariable:\n",
    "      - Conteo de frecuencias (countplot): con graficos de barras muestra la frecuencia de cada categoría de la variable categórica. Es lo mimos que un histograma\n",
    "      - Porcentaje o proporciones (pieplot): \n",
    "    - Análisis Bivariable:\n",
    "      - Countplot\n",
    "      -  Grafico de barras (bar): (es como un conteo), pero le tenemos que espeificar los valores x (categorias) y los valores y (numeros). No calcula\n",
    "      -  Tablas de contigencia\n",
    "\n",
    "- Relación variables categóricas y numéricas\n",
    "  - Boxplot\n",
    "  - Barplot: muestra la media de una variable categóricoa\n"
   ]
  },
  {
   "cell_type": "code",
   "execution_count": 1,
   "metadata": {},
   "outputs": [],
   "source": [
    "\n",
    "import pandas as pd\n",
    "import numpy as np\n",
    "\n",
    "import matplotlib.pyplot as plt\n",
    "import seaborn as sns\n",
    "\n",
    "pd.set_option('display.max_columns', None) # para poder visualizar todas las columnas de los DataFrames"
   ]
  },
  {
   "cell_type": "code",
   "execution_count": 2,
   "metadata": {},
   "outputs": [],
   "source": [
    "df = pd.read_csv(\"./files/bank-additional-clean-nonulls.csv\") \n",
    "df['marital'] = df['marital'].replace({'noviembre': 'married'})"
   ]
  },
  {
   "cell_type": "code",
   "execution_count": 3,
   "metadata": {},
   "outputs": [
    {
     "data": {
      "text/html": [
       "<div>\n",
       "<style scoped>\n",
       "    .dataframe tbody tr th:only-of-type {\n",
       "        vertical-align: middle;\n",
       "    }\n",
       "\n",
       "    .dataframe tbody tr th {\n",
       "        vertical-align: top;\n",
       "    }\n",
       "\n",
       "    .dataframe thead th {\n",
       "        text-align: right;\n",
       "    }\n",
       "</style>\n",
       "<table border=\"1\" class=\"dataframe\">\n",
       "  <thead>\n",
       "    <tr style=\"text-align: right;\">\n",
       "      <th></th>\n",
       "      <th>Unnamed: 0</th>\n",
       "      <th>income</th>\n",
       "      <th>kidhome</th>\n",
       "      <th>teenhome</th>\n",
       "      <th>dt_customer</th>\n",
       "      <th>numwebvisitsmonth</th>\n",
       "      <th>id</th>\n",
       "      <th>job</th>\n",
       "      <th>marital</th>\n",
       "      <th>education</th>\n",
       "      <th>default</th>\n",
       "      <th>housing</th>\n",
       "      <th>loan</th>\n",
       "      <th>contact</th>\n",
       "      <th>duration</th>\n",
       "      <th>campaign</th>\n",
       "      <th>previous</th>\n",
       "      <th>poutcome</th>\n",
       "      <th>empvarrate</th>\n",
       "      <th>conspriceidx</th>\n",
       "      <th>consconfidx</th>\n",
       "      <th>nremployed</th>\n",
       "      <th>y</th>\n",
       "      <th>date</th>\n",
       "      <th>latitude</th>\n",
       "      <th>longitude</th>\n",
       "      <th>contact_month</th>\n",
       "      <th>contact_year</th>\n",
       "      <th>age_cat</th>\n",
       "      <th>age</th>\n",
       "      <th>euribor3m</th>\n",
       "      <th>pdays</th>\n",
       "    </tr>\n",
       "  </thead>\n",
       "  <tbody>\n",
       "    <tr>\n",
       "      <th>0</th>\n",
       "      <td>0</td>\n",
       "      <td>161770</td>\n",
       "      <td>1</td>\n",
       "      <td>0</td>\n",
       "      <td>2012-04-04</td>\n",
       "      <td>29</td>\n",
       "      <td>089b39d8-e4d0-461b-87d4-814d71e0e079</td>\n",
       "      <td>housemaid</td>\n",
       "      <td>married</td>\n",
       "      <td>basic 4y</td>\n",
       "      <td>No</td>\n",
       "      <td>No</td>\n",
       "      <td>No</td>\n",
       "      <td>telephone</td>\n",
       "      <td>261</td>\n",
       "      <td>1</td>\n",
       "      <td>0</td>\n",
       "      <td>nonexistent</td>\n",
       "      <td>1.1</td>\n",
       "      <td>93.994</td>\n",
       "      <td>-36.4</td>\n",
       "      <td>5191</td>\n",
       "      <td>no</td>\n",
       "      <td>2-agosto-2019</td>\n",
       "      <td>41.495</td>\n",
       "      <td>-71.233</td>\n",
       "      <td>agosto</td>\n",
       "      <td>2019.0</td>\n",
       "      <td>Adultos mayores</td>\n",
       "      <td>40.005436</td>\n",
       "      <td>4.857000</td>\n",
       "      <td>4.4</td>\n",
       "    </tr>\n",
       "    <tr>\n",
       "      <th>1</th>\n",
       "      <td>1</td>\n",
       "      <td>85477</td>\n",
       "      <td>1</td>\n",
       "      <td>1</td>\n",
       "      <td>2012-12-30</td>\n",
       "      <td>7</td>\n",
       "      <td>e9d37224-cb6f-4942-98d7-46672963d097</td>\n",
       "      <td>services</td>\n",
       "      <td>married</td>\n",
       "      <td>high school</td>\n",
       "      <td>noviembre</td>\n",
       "      <td>No</td>\n",
       "      <td>No</td>\n",
       "      <td>telephone</td>\n",
       "      <td>149</td>\n",
       "      <td>1</td>\n",
       "      <td>0</td>\n",
       "      <td>nonexistent</td>\n",
       "      <td>1.1</td>\n",
       "      <td>93.994</td>\n",
       "      <td>-36.4</td>\n",
       "      <td>5191</td>\n",
       "      <td>no</td>\n",
       "      <td>14-septiembre-2016</td>\n",
       "      <td>34.601</td>\n",
       "      <td>-83.923</td>\n",
       "      <td>septiembre</td>\n",
       "      <td>2016.0</td>\n",
       "      <td>Mediana edad</td>\n",
       "      <td>57.000000</td>\n",
       "      <td>3.603174</td>\n",
       "      <td>4.8</td>\n",
       "    </tr>\n",
       "    <tr>\n",
       "      <th>2</th>\n",
       "      <td>2</td>\n",
       "      <td>147233</td>\n",
       "      <td>1</td>\n",
       "      <td>1</td>\n",
       "      <td>2012-02-02</td>\n",
       "      <td>5</td>\n",
       "      <td>3f9f49b5-e410-4948-bf6e-f9244f04918b</td>\n",
       "      <td>services</td>\n",
       "      <td>married</td>\n",
       "      <td>high school</td>\n",
       "      <td>No</td>\n",
       "      <td>Si</td>\n",
       "      <td>No</td>\n",
       "      <td>telephone</td>\n",
       "      <td>226</td>\n",
       "      <td>1</td>\n",
       "      <td>0</td>\n",
       "      <td>nonexistent</td>\n",
       "      <td>1.1</td>\n",
       "      <td>93.994</td>\n",
       "      <td>-36.4</td>\n",
       "      <td>5191</td>\n",
       "      <td>no</td>\n",
       "      <td>15-febrero-2019</td>\n",
       "      <td>34.939</td>\n",
       "      <td>-94.847</td>\n",
       "      <td>febrero</td>\n",
       "      <td>2019.0</td>\n",
       "      <td>Adultos jóvenes</td>\n",
       "      <td>37.000000</td>\n",
       "      <td>4.857000</td>\n",
       "      <td>7.0</td>\n",
       "    </tr>\n",
       "    <tr>\n",
       "      <th>3</th>\n",
       "      <td>3</td>\n",
       "      <td>121393</td>\n",
       "      <td>1</td>\n",
       "      <td>2</td>\n",
       "      <td>2012-12-21</td>\n",
       "      <td>29</td>\n",
       "      <td>9991fafb-4447-451a-8be2-b0df6098d13e</td>\n",
       "      <td>admin.</td>\n",
       "      <td>married</td>\n",
       "      <td>basic 6y</td>\n",
       "      <td>No</td>\n",
       "      <td>No</td>\n",
       "      <td>No</td>\n",
       "      <td>telephone</td>\n",
       "      <td>151</td>\n",
       "      <td>1</td>\n",
       "      <td>0</td>\n",
       "      <td>nonexistent</td>\n",
       "      <td>1.1</td>\n",
       "      <td>93.994</td>\n",
       "      <td>-36.4</td>\n",
       "      <td>5191</td>\n",
       "      <td>no</td>\n",
       "      <td>29-noviembre-2015</td>\n",
       "      <td>49.041</td>\n",
       "      <td>-70.308</td>\n",
       "      <td>noviembre</td>\n",
       "      <td>2015.0</td>\n",
       "      <td>Mediana edad</td>\n",
       "      <td>40.000000</td>\n",
       "      <td>3.595488</td>\n",
       "      <td>2.8</td>\n",
       "    </tr>\n",
       "    <tr>\n",
       "      <th>4</th>\n",
       "      <td>4</td>\n",
       "      <td>63164</td>\n",
       "      <td>1</td>\n",
       "      <td>2</td>\n",
       "      <td>2012-06-20</td>\n",
       "      <td>20</td>\n",
       "      <td>eca60b76-70b6-4077-80ba-bc52e8ebb0eb</td>\n",
       "      <td>services</td>\n",
       "      <td>married</td>\n",
       "      <td>high school</td>\n",
       "      <td>No</td>\n",
       "      <td>No</td>\n",
       "      <td>Si</td>\n",
       "      <td>telephone</td>\n",
       "      <td>307</td>\n",
       "      <td>1</td>\n",
       "      <td>0</td>\n",
       "      <td>nonexistent</td>\n",
       "      <td>1.1</td>\n",
       "      <td>93.994</td>\n",
       "      <td>-36.4</td>\n",
       "      <td>5191</td>\n",
       "      <td>no</td>\n",
       "      <td>29-enero-2017</td>\n",
       "      <td>38.033</td>\n",
       "      <td>-104.463</td>\n",
       "      <td>enero</td>\n",
       "      <td>2017.0</td>\n",
       "      <td>Mediana edad</td>\n",
       "      <td>56.000000</td>\n",
       "      <td>3.602722</td>\n",
       "      <td>5.8</td>\n",
       "    </tr>\n",
       "  </tbody>\n",
       "</table>\n",
       "</div>"
      ],
      "text/plain": [
       "   Unnamed: 0  income  kidhome  teenhome dt_customer  numwebvisitsmonth  \\\n",
       "0           0  161770        1         0  2012-04-04                 29   \n",
       "1           1   85477        1         1  2012-12-30                  7   \n",
       "2           2  147233        1         1  2012-02-02                  5   \n",
       "3           3  121393        1         2  2012-12-21                 29   \n",
       "4           4   63164        1         2  2012-06-20                 20   \n",
       "\n",
       "                                     id        job  marital    education  \\\n",
       "0  089b39d8-e4d0-461b-87d4-814d71e0e079  housemaid  married     basic 4y   \n",
       "1  e9d37224-cb6f-4942-98d7-46672963d097   services  married  high school   \n",
       "2  3f9f49b5-e410-4948-bf6e-f9244f04918b   services  married  high school   \n",
       "3  9991fafb-4447-451a-8be2-b0df6098d13e     admin.  married     basic 6y   \n",
       "4  eca60b76-70b6-4077-80ba-bc52e8ebb0eb   services  married  high school   \n",
       "\n",
       "     default housing loan    contact  duration  campaign  previous  \\\n",
       "0         No      No   No  telephone       261         1         0   \n",
       "1  noviembre      No   No  telephone       149         1         0   \n",
       "2         No      Si   No  telephone       226         1         0   \n",
       "3         No      No   No  telephone       151         1         0   \n",
       "4         No      No   Si  telephone       307         1         0   \n",
       "\n",
       "      poutcome  empvarrate  conspriceidx  consconfidx nremployed   y  \\\n",
       "0  nonexistent         1.1        93.994        -36.4       5191  no   \n",
       "1  nonexistent         1.1        93.994        -36.4       5191  no   \n",
       "2  nonexistent         1.1        93.994        -36.4       5191  no   \n",
       "3  nonexistent         1.1        93.994        -36.4       5191  no   \n",
       "4  nonexistent         1.1        93.994        -36.4       5191  no   \n",
       "\n",
       "                 date  latitude  longitude contact_month  contact_year  \\\n",
       "0       2-agosto-2019    41.495    -71.233        agosto        2019.0   \n",
       "1  14-septiembre-2016    34.601    -83.923    septiembre        2016.0   \n",
       "2     15-febrero-2019    34.939    -94.847       febrero        2019.0   \n",
       "3   29-noviembre-2015    49.041    -70.308     noviembre        2015.0   \n",
       "4       29-enero-2017    38.033   -104.463         enero        2017.0   \n",
       "\n",
       "           age_cat        age  euribor3m  pdays  \n",
       "0  Adultos mayores  40.005436   4.857000    4.4  \n",
       "1     Mediana edad  57.000000   3.603174    4.8  \n",
       "2  Adultos jóvenes  37.000000   4.857000    7.0  \n",
       "3     Mediana edad  40.000000   3.595488    2.8  \n",
       "4     Mediana edad  56.000000   3.602722    5.8  "
      ]
     },
     "execution_count": 3,
     "metadata": {},
     "output_type": "execute_result"
    }
   ],
   "source": [
    "df.head()"
   ]
  },
  {
   "cell_type": "markdown",
   "metadata": {},
   "source": [
    "## Visualización Variables Categóricas"
   ]
  },
  {
   "cell_type": "markdown",
   "metadata": {},
   "source": [
    "### Análisis univariable - Conteo de valores o frecuencias "
   ]
  },
  {
   "cell_type": "code",
   "execution_count": 5,
   "metadata": {},
   "outputs": [
    {
     "data": {
      "image/png": "[encoded data removed]",
      "text/plain": [
       "<Figure size 432x288 with 1 Axes>"
      ]
     },
     "metadata": {
      "needs_background": "light"
     },
     "output_type": "display_data"
    }
   ],
   "source": [
    "sns.countplot(x=\"education\", data=df);"
   ]
  },
  {
   "cell_type": "code",
   "execution_count": 12,
   "metadata": {},
   "outputs": [
    {
     "data": {
      "image/png": "[encoded data removed]",
      "text/plain": [
       "<Figure size 432x288 with 1 Axes>"
      ]
     },
     "metadata": {
      "needs_background": "light"
     },
     "output_type": "display_data"
    }
   ],
   "source": [
    "order_education = df['education'].value_counts().index\n",
    "order_education\n",
    "\n",
    "sns.countplot(x=\"education\", data=df, order=order_education);\n",
    "plt.xticks(rotation=45);\n",
    "plt.xlabel(\"Nivel de educacion\")\n",
    "plt.ylabel(\"No clientes\")\n",
    "\n",
    "plt.show()"
   ]
  },
  {
   "cell_type": "markdown",
   "metadata": {},
   "source": [
    "- La mayoria de los clientes tienen grado universitario, y muy cerca tendriamos a los de instituto. "
   ]
  },
  {
   "cell_type": "markdown",
   "metadata": {},
   "source": [
    "### Análisis univariable - Porcentajes o proporciones\n",
    "- Preparación de datos\n",
    "- Visualización"
   ]
  },
  {
   "cell_type": "code",
   "execution_count": 13,
   "metadata": {},
   "outputs": [
    {
     "data": {
      "text/html": [
       "<div>\n",
       "<style scoped>\n",
       "    .dataframe tbody tr th:only-of-type {\n",
       "        vertical-align: middle;\n",
       "    }\n",
       "\n",
       "    .dataframe tbody tr th {\n",
       "        vertical-align: top;\n",
       "    }\n",
       "\n",
       "    .dataframe thead th {\n",
       "        text-align: right;\n",
       "    }\n",
       "</style>\n",
       "<table border=\"1\" class=\"dataframe\">\n",
       "  <thead>\n",
       "    <tr style=\"text-align: right;\">\n",
       "      <th></th>\n",
       "      <th>education</th>\n",
       "      <th>id</th>\n",
       "    </tr>\n",
       "  </thead>\n",
       "  <tbody>\n",
       "    <tr>\n",
       "      <th>0</th>\n",
       "      <td>Unknown</td>\n",
       "      <td>1807</td>\n",
       "    </tr>\n",
       "    <tr>\n",
       "      <th>1</th>\n",
       "      <td>basic 4y</td>\n",
       "      <td>4356</td>\n",
       "    </tr>\n",
       "    <tr>\n",
       "      <th>2</th>\n",
       "      <td>basic 6y</td>\n",
       "      <td>2386</td>\n",
       "    </tr>\n",
       "    <tr>\n",
       "      <th>3</th>\n",
       "      <td>basic 9y</td>\n",
       "      <td>6309</td>\n",
       "    </tr>\n",
       "    <tr>\n",
       "      <th>4</th>\n",
       "      <td>high school</td>\n",
       "      <td>9925</td>\n",
       "    </tr>\n",
       "    <tr>\n",
       "      <th>5</th>\n",
       "      <td>illiterate</td>\n",
       "      <td>18</td>\n",
       "    </tr>\n",
       "    <tr>\n",
       "      <th>6</th>\n",
       "      <td>professional course</td>\n",
       "      <td>5477</td>\n",
       "    </tr>\n",
       "    <tr>\n",
       "      <th>7</th>\n",
       "      <td>university degree</td>\n",
       "      <td>12722</td>\n",
       "    </tr>\n",
       "  </tbody>\n",
       "</table>\n",
       "</div>"
      ],
      "text/plain": [
       "             education     id\n",
       "0              Unknown   1807\n",
       "1             basic 4y   4356\n",
       "2             basic 6y   2386\n",
       "3             basic 9y   6309\n",
       "4          high school   9925\n",
       "5           illiterate     18\n",
       "6  professional course   5477\n",
       "7    university degree  12722"
      ]
     },
     "execution_count": 13,
     "metadata": {},
     "output_type": "execute_result"
    }
   ],
   "source": [
    "#¿cantidad de clientes por grado universitario?\n",
    "\n",
    "df_education = df.groupby('education')[\"id\"].count().reset_index()\n",
    "df_education\n"
   ]
  },
  {
   "cell_type": "code",
   "execution_count": 16,
   "metadata": {},
   "outputs": [
    {
     "data": {
      "image/png": "[encoded data removed]",
      "text/plain": [
       "<Figure size 432x288 with 1 Axes>"
      ]
     },
     "metadata": {},
     "output_type": "display_data"
    }
   ],
   "source": [
    "plt.pie(\"id\", labels=\"education\", data=df_education, textprops={'fontsize': 8}, autopct='%1.1f%%');"
   ]
  },
  {
   "cell_type": "markdown",
   "metadata": {},
   "source": [
    "### Análisis bivariable - Countplot con hue"
   ]
  },
  {
   "cell_type": "code",
   "execution_count": 19,
   "metadata": {},
   "outputs": [
    {
     "data": {
      "image/png": "[encoded data removed]",
      "text/plain": [
       "<Figure size 432x288 with 1 Axes>"
      ]
     },
     "metadata": {
      "needs_background": "light"
     },
     "output_type": "display_data"
    }
   ],
   "source": [
    "order_education = df['education'].value_counts().index\n",
    "order_education\n",
    "\n",
    "sns.countplot(x=\"education\", data=df, order=order_education, hue=\"y\");\n",
    "\n",
    "plt.xticks(rotation=45);\n",
    "plt.xlabel(\"Nivel de educacion\")\n",
    "plt.ylabel(\"No clientes\")\n",
    "\n",
    "plt.show()"
   ]
  },
  {
   "cell_type": "markdown",
   "metadata": {},
   "source": [
    "### Análisis bivariable - Tablas contingencia"
   ]
  },
  {
   "cell_type": "code",
   "execution_count": null,
   "metadata": {},
   "outputs": [],
   "source": [
    "pd.crosstab?\n"
   ]
  },
  {
   "cell_type": "code",
   "execution_count": 20,
   "metadata": {},
   "outputs": [
    {
     "data": {
      "text/html": [
       "<div>\n",
       "<style scoped>\n",
       "    .dataframe tbody tr th:only-of-type {\n",
       "        vertical-align: middle;\n",
       "    }\n",
       "\n",
       "    .dataframe tbody tr th {\n",
       "        vertical-align: top;\n",
       "    }\n",
       "\n",
       "    .dataframe thead th {\n",
       "        text-align: right;\n",
       "    }\n",
       "</style>\n",
       "<table border=\"1\" class=\"dataframe\">\n",
       "  <thead>\n",
       "    <tr style=\"text-align: right;\">\n",
       "      <th>y</th>\n",
       "      <th>no</th>\n",
       "      <th>yes</th>\n",
       "    </tr>\n",
       "    <tr>\n",
       "      <th>education</th>\n",
       "      <th></th>\n",
       "      <th></th>\n",
       "    </tr>\n",
       "  </thead>\n",
       "  <tbody>\n",
       "    <tr>\n",
       "      <th>Unknown</th>\n",
       "      <td>1546</td>\n",
       "      <td>261</td>\n",
       "    </tr>\n",
       "    <tr>\n",
       "      <th>basic 4y</th>\n",
       "      <td>3908</td>\n",
       "      <td>448</td>\n",
       "    </tr>\n",
       "    <tr>\n",
       "      <th>basic 6y</th>\n",
       "      <td>2192</td>\n",
       "      <td>194</td>\n",
       "    </tr>\n",
       "    <tr>\n",
       "      <th>basic 9y</th>\n",
       "      <td>5816</td>\n",
       "      <td>493</td>\n",
       "    </tr>\n",
       "    <tr>\n",
       "      <th>high school</th>\n",
       "      <td>8849</td>\n",
       "      <td>1076</td>\n",
       "    </tr>\n",
       "    <tr>\n",
       "      <th>illiterate</th>\n",
       "      <td>14</td>\n",
       "      <td>4</td>\n",
       "    </tr>\n",
       "    <tr>\n",
       "      <th>professional course</th>\n",
       "      <td>4857</td>\n",
       "      <td>620</td>\n",
       "    </tr>\n",
       "    <tr>\n",
       "      <th>university degree</th>\n",
       "      <td>10974</td>\n",
       "      <td>1748</td>\n",
       "    </tr>\n",
       "  </tbody>\n",
       "</table>\n",
       "</div>"
      ],
      "text/plain": [
       "y                       no   yes\n",
       "education                       \n",
       "Unknown               1546   261\n",
       "basic 4y              3908   448\n",
       "basic 6y              2192   194\n",
       "basic 9y              5816   493\n",
       "high school           8849  1076\n",
       "illiterate              14     4\n",
       "professional course   4857   620\n",
       "university degree    10974  1748"
      ]
     },
     "execution_count": 20,
     "metadata": {},
     "output_type": "execute_result"
    }
   ],
   "source": [
    "crosstab_result = pd.crosstab(df['education'], df['y'])\n",
    "crosstab_result"
   ]
  },
  {
   "cell_type": "markdown",
   "metadata": {},
   "source": [
    "## Relaciones entre variables categóricas y numéricas -> Resumen de estadísticos\n",
    "\n",
    "- countplot = Gráfico de conteo (categórico).\n",
    "- barplot = Gráfico de barras que muestra una estadística resumida (como la media) de una variable numérica para cada categoría."
   ]
  },
  {
   "cell_type": "code",
   "execution_count": null,
   "metadata": {},
   "outputs": [
    {
     "data": {
      "text/plain": [
       "Text(0.5, 0.98, 'Comparacion nivel educativo e ingresos')"
      ]
     },
     "execution_count": 35,
     "metadata": {},
     "output_type": "execute_result"
    },
    {
     "data": {
      "image/png": "[encoded data removed]",
      "text/plain": [
       "<Figure size 1440x360 with 2 Axes>"
      ]
     },
     "metadata": {
      "needs_background": "light"
     },
     "output_type": "display_data"
    }
   ],
   "source": [
    "fig,axes = plt.subplots(nrows= 1, ncols=2, figsize= (20, 5))\n",
    "\n",
    "sns.barplot(x=\"education\", y=\"income\", data=df, ax=axes[0]);\n",
    "\n",
    "sns.boxplot(x=\"education\", y=\"income\", data=df, ax=axes[1]) ;\n",
    "\n",
    "plt.suptitle(\"Comparacion nivel educativo e ingresos\")\n",
    "\n"
   ]
  },
  {
   "cell_type": "code",
   "execution_count": null,
   "metadata": {},
   "outputs": [],
   "source": []
  },
  {
   "cell_type": "markdown",
   "metadata": {},
   "source": [
    "#### Interpretación de las visualizaciones\n",
    "\n",
    "- Barplot\n",
    "  - En Seaborn, un barplot muestra barras verticales cuya altura representa una estadística agregada (por defecto, la media) de la variable numérica."
   ]
  }
 ],
 "metadata": {
  "kernelspec": {
   "display_name": "base",
   "language": "python",
   "name": "python3"
  },
  "language_info": {
   "codemirror_mode": {
    "name": "ipython",
    "version": 3
   },
   "file_extension": ".py",
   "mimetype": "text/x-python",
   "name": "python",
   "nbconvert_exporter": "python",
   "pygments_lexer": "ipython3",
   "version": "3.9.7"
  }
 },
 "nbformat": 4,
 "nbformat_minor": 2
}
