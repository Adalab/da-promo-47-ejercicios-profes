{
 "cells": [
  {
   "cell_type": "markdown",
   "metadata": {},
   "source": [
    "### Python --> SQL\n",
    "\n",
    "### Desde Python podemos conectarnos a SQL y modificar datos, insertar datos, etc.\n",
    "\n",
    "-Conexión a BBDD\n",
    "-Crear BBDD\n",
    "-Crear una tabla\n",
    "-Insertar datos\n",
    "-Eliminar datos\n",
    "-Actualizar datos\n"
   ]
  },
  {
   "cell_type": "markdown",
   "metadata": {},
   "source": [
    "### Desde SQL también podremos después...\n",
    "-Leer datos\n",
    "-Comando de integración"
   ]
  },
  {
   "cell_type": "code",
   "execution_count": null,
   "metadata": {},
   "outputs": [],
   "source": [
    "pip install mysql-connector-python"
   ]
  },
  {
   "cell_type": "code",
   "execution_count": 2,
   "metadata": {},
   "outputs": [],
   "source": [
    "#Importamos ciertas librerias (si nos da error lo hacemos con pip install)\n",
    "import mysql.connector\n",
    "from mysql.connector import errorcode\n",
    "import pandas as pd\n"
   ]
  },
  {
   "cell_type": "code",
   "execution_count": null,
   "metadata": {},
   "outputs": [],
   "source": [
    "#Conectar a BBDD\n",
    "#Creamos una variable que la llamamos como queramos, pero se suele llamar cnx\n",
    "#Esto sirve para \"conectarnos\" a nuestra base de datos\n",
    "#Usamos:\n",
    "    #-mysql.coonector.connect\n",
    "    #-Le pasamos los parámetros user, password y host y a veces, databse\n",
    "\n",
    "cnx = mysql.connector.connect(user=, password=, host=, database=)\n",
    "\n",
    "#Creamos un \"cursor\" al que le vamos a decir qué queremos cmabiar y demás\n",
    "\n",
    "mycursor = cnx.cursor()\n",
    "\n",
    "# Una vez hecho todo esto, haríamos las queries, selecciones, creaciones...\n",
    "# PERO la sintaxis aquí es ligeramente diferente\n",
    "\n",
    "#Hay varias opciones de ejecutar queries y podéis elegir la que más sencilla os parezca\n",
    "\n",
    "#Opcion1\n",
    "mycursor.execute('query') #Dentro puede haber un SELECT, CREATE...\n",
    "\n",
    "#Opcion2\n",
    "\n",
    "consulta = 'query'\n",
    "mycursor.execute(consulta)\n",
    "\n",
    "#Opcion3\n",
    "\n",
    "consulta = 'query'\n",
    "valores =('val1', 'val2')\n",
    "mycursor.execute(consulta, valores)\n",
    "\n",
    "#Los resultados los vamos a tener con comandos como:\n",
    "fetchone()\n",
    "fetchall()\n",
    "commit()\n",
    "cnx.close()\n"
   ]
  },
  {
   "cell_type": "code",
   "execution_count": null,
   "metadata": {},
   "outputs": [],
   "source": [
    "# Conexion a la bases de datos\n",
    "params = {\n",
    "    'user':'root', password:'', host:'127.0.0.1'\n",
    "}\n",
    "cnx = mysql.connector.connect(user='root', password='', host='127.0.0.1')\n",
    "\n",
    "## Ejecutar el cursor\n",
    "\n",
    "cursor = cnx.cursor()\n",
    "\n",
    "cursor.execute('CREATE DATABASE IF NOT EXISTS bd_prueba')\n",
    "\n",
    "cnx.close()"
   ]
  },
  {
   "cell_type": "code",
   "execution_count": 26,
   "metadata": {},
   "outputs": [],
   "source": [
    "cnx = mysql.connector.connect(user='root', password='', host='127.0.0.1', database= 'bd_prueba')\n",
    "cursor = cnx.cursor()\n",
    "query = \"CREATE TABLE IF NOT EXISTS customers(name VARCHAR(255) , address  VARCHAR(255))\"\n",
    "cursor.execute(query)\n"
   ]
  },
  {
   "cell_type": "code",
   "execution_count": 6,
   "metadata": {},
   "outputs": [],
   "source": [
    "queryInsert = 'INSERT INTO customers (name, address) VALUES(%s, %s)'\n",
    "valuesInsert = ('Carla', 'Madrid')\n",
    "\n",
    "cursor.execute(queryInsert, valuesInsert)"
   ]
  },
  {
   "cell_type": "code",
   "execution_count": 7,
   "metadata": {},
   "outputs": [],
   "source": [
    "cnx.commit()\n",
    "## Siempre se usa en los insert, update y delete\n"
   ]
  },
  {
   "cell_type": "code",
   "execution_count": 10,
   "metadata": {},
   "outputs": [],
   "source": [
    "queryInsertAll = 'INSERT INTO customers (name, address) VALUES(%s, %s)'\n",
    "valuesInsertAll = [('Paola', 'Madrid'), ('Katie', 'Madrid'), ('Rosa', 'Madrid')]\n",
    "cursor.executemany(queryInsertAll, valuesInsertAll)\n",
    "cnx.commit()"
   ]
  },
  {
   "cell_type": "code",
   "execution_count": 11,
   "metadata": {},
   "outputs": [],
   "source": [
    "## Deshacer los cambios, pero antes del commit\n",
    "cnx.rollback()"
   ]
  },
  {
   "cell_type": "code",
   "execution_count": 12,
   "metadata": {},
   "outputs": [],
   "source": [
    "## Delete \n",
    "name = \"Paola\"\n",
    "queryDelete = \"DELETE FROM customers WHERE name = %s\"\n",
    "cursor.execute(queryDelete, name)\n",
    "cnx.commit()"
   ]
  },
  {
   "cell_type": "code",
   "execution_count": 13,
   "metadata": {},
   "outputs": [],
   "source": [
    "## Update \n",
    "queryUpdate = \"UPDATE customers SET address = 'Santander' WHERE name = 'Rosa'\"\n",
    "cursor.execute(queryUpdate)\n",
    "cnx.commit()"
   ]
  },
  {
   "cell_type": "code",
   "execution_count": 27,
   "metadata": {},
   "outputs": [
    {
     "name": "stdout",
     "output_type": "stream",
     "text": [
      "('Carla', 'Madrid', 1)\n"
     ]
    }
   ],
   "source": [
    "## Select y ver los valores que trae el resultado\n",
    "\n",
    "querySelect = \"SELECT * FROM customers\"\n",
    "cursor.execute(querySelect)\n",
    "\n",
    "## result = cursor.fetchone()\n",
    "result = cursor.fetchone()\n",
    "print(result)\n",
    "cnx.close()\n"
   ]
  },
  {
   "cell_type": "code",
   "execution_count": 32,
   "metadata": {},
   "outputs": [
    {
     "name": "stdout",
     "output_type": "stream",
     "text": [
      "[('Carla', 'Madrid', 1), ('Katie', 'Madrid', 3), ('Rosa', 'Santander', 4), ('Katie', 'Madrid', 6), ('Rosa', 'Santander', 7)]\n"
     ]
    }
   ],
   "source": [
    "## Select y ver los valores que trae el resultado\n",
    "cnx = mysql.connector.connect(user='root', password='', host='127.0.0.1', database= 'bd_prueba')\n",
    "cursor = cnx.cursor()\n",
    "querySelect = \"SELECT * FROM customers\"\n",
    "cursor.execute(querySelect)\n",
    "\n",
    "## result = cursor.fetchone()\n",
    "results = cursor.fetchall()\n",
    "print(results)"
   ]
  },
  {
   "cell_type": "code",
   "execution_count": 33,
   "metadata": {},
   "outputs": [],
   "source": [
    "df = pd.DataFrame(results, columns=[ 'nombre', 'ciudad', 'id'])"
   ]
  },
  {
   "cell_type": "code",
   "execution_count": 34,
   "metadata": {},
   "outputs": [
    {
     "data": {
      "text/html": [
       "<div>\n",
       "<style scoped>\n",
       "    .dataframe tbody tr th:only-of-type {\n",
       "        vertical-align: middle;\n",
       "    }\n",
       "\n",
       "    .dataframe tbody tr th {\n",
       "        vertical-align: top;\n",
       "    }\n",
       "\n",
       "    .dataframe thead th {\n",
       "        text-align: right;\n",
       "    }\n",
       "</style>\n",
       "<table border=\"1\" class=\"dataframe\">\n",
       "  <thead>\n",
       "    <tr style=\"text-align: right;\">\n",
       "      <th></th>\n",
       "      <th>nombre</th>\n",
       "      <th>ciudad</th>\n",
       "      <th>id</th>\n",
       "    </tr>\n",
       "  </thead>\n",
       "  <tbody>\n",
       "    <tr>\n",
       "      <th>0</th>\n",
       "      <td>Carla</td>\n",
       "      <td>Madrid</td>\n",
       "      <td>1</td>\n",
       "    </tr>\n",
       "    <tr>\n",
       "      <th>1</th>\n",
       "      <td>Katie</td>\n",
       "      <td>Madrid</td>\n",
       "      <td>3</td>\n",
       "    </tr>\n",
       "    <tr>\n",
       "      <th>2</th>\n",
       "      <td>Rosa</td>\n",
       "      <td>Santander</td>\n",
       "      <td>4</td>\n",
       "    </tr>\n",
       "    <tr>\n",
       "      <th>3</th>\n",
       "      <td>Katie</td>\n",
       "      <td>Madrid</td>\n",
       "      <td>6</td>\n",
       "    </tr>\n",
       "    <tr>\n",
       "      <th>4</th>\n",
       "      <td>Rosa</td>\n",
       "      <td>Santander</td>\n",
       "      <td>7</td>\n",
       "    </tr>\n",
       "  </tbody>\n",
       "</table>\n",
       "</div>"
      ],
      "text/plain": [
       "  nombre     ciudad  id\n",
       "0  Carla     Madrid   1\n",
       "1  Katie     Madrid   3\n",
       "2   Rosa  Santander   4\n",
       "3  Katie     Madrid   6\n",
       "4   Rosa  Santander   7"
      ]
     },
     "execution_count": 34,
     "metadata": {},
     "output_type": "execute_result"
    }
   ],
   "source": [
    "df"
   ]
  },
  {
   "cell_type": "code",
   "execution_count": 35,
   "metadata": {},
   "outputs": [
    {
     "name": "stdout",
     "output_type": "stream",
     "text": [
      "<class 'pandas.core.frame.DataFrame'>\n",
      "RangeIndex: 5 entries, 0 to 4\n",
      "Data columns (total 3 columns):\n",
      " #   Column  Non-Null Count  Dtype \n",
      "---  ------  --------------  ----- \n",
      " 0   nombre  5 non-null      object\n",
      " 1   ciudad  5 non-null      object\n",
      " 2   id      5 non-null      int64 \n",
      "dtypes: int64(1), object(2)\n",
      "memory usage: 248.0+ bytes\n"
     ]
    }
   ],
   "source": [
    "## Funciones que puedo hacer en un df\n",
    "df.info()"
   ]
  },
  {
   "cell_type": "code",
   "execution_count": 36,
   "metadata": {},
   "outputs": [
    {
     "data": {
      "text/html": [
       "<div>\n",
       "<style scoped>\n",
       "    .dataframe tbody tr th:only-of-type {\n",
       "        vertical-align: middle;\n",
       "    }\n",
       "\n",
       "    .dataframe tbody tr th {\n",
       "        vertical-align: top;\n",
       "    }\n",
       "\n",
       "    .dataframe thead th {\n",
       "        text-align: right;\n",
       "    }\n",
       "</style>\n",
       "<table border=\"1\" class=\"dataframe\">\n",
       "  <thead>\n",
       "    <tr style=\"text-align: right;\">\n",
       "      <th></th>\n",
       "      <th>id</th>\n",
       "    </tr>\n",
       "  </thead>\n",
       "  <tbody>\n",
       "    <tr>\n",
       "      <th>count</th>\n",
       "      <td>5.000000</td>\n",
       "    </tr>\n",
       "    <tr>\n",
       "      <th>mean</th>\n",
       "      <td>4.200000</td>\n",
       "    </tr>\n",
       "    <tr>\n",
       "      <th>std</th>\n",
       "      <td>2.387467</td>\n",
       "    </tr>\n",
       "    <tr>\n",
       "      <th>min</th>\n",
       "      <td>1.000000</td>\n",
       "    </tr>\n",
       "    <tr>\n",
       "      <th>25%</th>\n",
       "      <td>3.000000</td>\n",
       "    </tr>\n",
       "    <tr>\n",
       "      <th>50%</th>\n",
       "      <td>4.000000</td>\n",
       "    </tr>\n",
       "    <tr>\n",
       "      <th>75%</th>\n",
       "      <td>6.000000</td>\n",
       "    </tr>\n",
       "    <tr>\n",
       "      <th>max</th>\n",
       "      <td>7.000000</td>\n",
       "    </tr>\n",
       "  </tbody>\n",
       "</table>\n",
       "</div>"
      ],
      "text/plain": [
       "             id\n",
       "count  5.000000\n",
       "mean   4.200000\n",
       "std    2.387467\n",
       "min    1.000000\n",
       "25%    3.000000\n",
       "50%    4.000000\n",
       "75%    6.000000\n",
       "max    7.000000"
      ]
     },
     "execution_count": 36,
     "metadata": {},
     "output_type": "execute_result"
    }
   ],
   "source": [
    "df.describe()"
   ]
  },
  {
   "cell_type": "code",
   "execution_count": 38,
   "metadata": {},
   "outputs": [
    {
     "data": {
      "text/plain": [
       "nombre    0\n",
       "ciudad    0\n",
       "id        0\n",
       "dtype: int64"
      ]
     },
     "execution_count": 38,
     "metadata": {},
     "output_type": "execute_result"
    }
   ],
   "source": [
    "df.isnull().sum()"
   ]
  },
  {
   "cell_type": "code",
   "execution_count": 39,
   "metadata": {},
   "outputs": [
    {
     "data": {
      "text/plain": [
       "Index(['nombre', 'ciudad', 'id'], dtype='object')"
      ]
     },
     "execution_count": 39,
     "metadata": {},
     "output_type": "execute_result"
    }
   ],
   "source": [
    "df.columns"
   ]
  },
  {
   "cell_type": "code",
   "execution_count": 42,
   "metadata": {},
   "outputs": [
    {
     "name": "stdout",
     "output_type": "stream",
     "text": [
      "Conexión exitosa\n"
     ]
    }
   ],
   "source": [
    "## establecer una conexion\n",
    "def getConecction (): \n",
    "    try: \n",
    "        cnx = mysql.connector.connect(user='root', password='', host='127.0.0.1', database= 'bd_prueba')\n",
    "        print(\"Conexión exitosa\")\n",
    "        return cnx\n",
    "    except mysql.connector.Error as err:\n",
    "        print(f\"Error al conectar con MYSQL: {err}\")     \n"
   ]
  },
  {
   "cell_type": "code",
   "execution_count": null,
   "metadata": {},
   "outputs": [],
   "source": [
    "cnx = mysql.connector.connect(user='root', password='', host='127.0.0.1')\n",
    "cursor = cnx.cursor()\n",
    "cursor.execute('CREATE DATABASE bd_prueba')"
   ]
  },
  {
   "cell_type": "code",
   "execution_count": 46,
   "metadata": {},
   "outputs": [
    {
     "name": "stdout",
     "output_type": "stream",
     "text": [
      "Error\n"
     ]
    }
   ],
   "source": [
    "try: \n",
    "    cursor = cnx.cursor()\n",
    "    cursor.execute('CREATE DATABASE bd_prueba')\n",
    "    print(\"Consulta exitosa\")\n",
    "except:\n",
    "    print(\"Error\")"
   ]
  },
  {
   "cell_type": "code",
   "execution_count": 47,
   "metadata": {},
   "outputs": [],
   "source": [
    "cnx.close()"
   ]
  }
 ],
 "metadata": {
  "kernelspec": {
   "display_name": "base",
   "language": "python",
   "name": "python3"
  },
  "language_info": {
   "codemirror_mode": {
    "name": "ipython",
    "version": 3
   },
   "file_extension": ".py",
   "mimetype": "text/x-python",
   "name": "python",
   "nbconvert_exporter": "python",
   "pygments_lexer": "ipython3",
   "version": "3.9.7"
  }
 },
 "nbformat": 4,
 "nbformat_minor": 2
}
