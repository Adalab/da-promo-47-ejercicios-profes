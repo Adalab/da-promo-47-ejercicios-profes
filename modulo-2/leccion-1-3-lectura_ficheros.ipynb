{
 "cells": [
  {
   "cell_type": "markdown",
   "metadata": {},
   "source": [
    "# LECTURA DE FICHEROS\n",
    "\n",
    "### Vamos a explorar...\n",
    "\n",
    "- XML\n",
    "- JSON\n",
    "- CSV\n",
    "- EXCEL\n"
   ]
  },
  {
   "cell_type": "markdown",
   "metadata": {},
   "source": [
    "### XML\n",
    "\n",
    "- \"Lenguaje de Marcado Extensible\". Es decir, es un lenguaje que utiliza etiquetas.\n",
    "- Su objetivo es estructurar datos, guardarlos para luego poder utilizarlos.\n",
    "- Usos: almacenamiento de datos, almacenar datos en la web."
   ]
  },
  {
   "cell_type": "code",
   "execution_count": null,
   "metadata": {},
   "outputs": [],
   "source": [
    "\"\"\" <libros>\n",
    "    <libro>\n",
    "        <titulo>El Principito</titulo>\n",
    "        <autor>Antoine de Saint-Exupéry</autor>\n",
    "        <año>1943</año>\n",
    "    </libro>\n",
    "    <libro>\n",
    "        <titulo>1984</titulo>\n",
    "        <autor>George Orwell</autor>\n",
    "        <año>1949</año>\n",
    "    </libro>\n",
    "</libros> \"\"\" "
   ]
  },
  {
   "cell_type": "markdown",
   "metadata": {},
   "source": [
    "### JSON\n",
    "- Ya lo hemos visto, pero son estructuras basadas en pares clave-valor y listas.\n",
    ">>"
   ]
  },
  {
   "cell_type": "code",
   "execution_count": null,
   "metadata": {},
   "outputs": [],
   "source": [
    "\"\"\"{ \"nombre\": \"Juan\",\n",
    "  \"edad\": 30,\n",
    "  \"país\": \"México\" \n",
    "}\"\"\""
   ]
  },
  {
   "cell_type": "markdown",
   "metadata": {},
   "source": [
    "### CSV\n",
    "- Archivo en forma de tabla donde cada lína representa una fila y las columnas están separadas por comas (a veces por punto y coma):"
   ]
  },
  {
   "cell_type": "code",
   "execution_count": null,
   "metadata": {},
   "outputs": [],
   "source": [
    "\"\"\" Nombre,Edad,País\n",
    "Juan,30,México\n",
    "María,25,España\"\"\""
   ]
  },
  {
   "cell_type": "markdown",
   "metadata": {},
   "source": [
    "### EXCEL\n",
    "\n",
    "- Ya nos sonará bastante. Se utiliza para almacenar datos en hojas de cálculo"
   ]
  },
  {
   "cell_type": "markdown",
   "metadata": {},
   "source": [
    "Normalmente tendremos una variable donde guardaremos el fichero. Para leer el fichero utilizaremos la librería pandas.\n",
    "La usaremos MUCHO MUCHO\n",
    "Nos va a ser MUY útil para manejar datos\n"
   ]
  },
  {
   "cell_type": "code",
   "execution_count": 9,
   "metadata": {},
   "outputs": [],
   "source": [
    "import pandas as pd"
   ]
  },
  {
   "cell_type": "code",
   "execution_count": null,
   "metadata": {},
   "outputs": [],
   "source": [
    "df dataframe / dataset"
   ]
  },
  {
   "cell_type": "code",
   "execution_count": null,
   "metadata": {},
   "outputs": [],
   "source": [
    "#La estructura sería\n",
    "\n",
    "nombre_variable = pd.read_json/xml/csv(\"personajes_pelicula.json\")\n"
   ]
  }
 ],
 "metadata": {
  "kernelspec": {
   "display_name": "Python 3",
   "language": "python",
   "name": "python3"
  },
  "language_info": {
   "codemirror_mode": {
    "name": "ipython",
    "version": 3
   },
   "file_extension": ".py",
   "mimetype": "text/x-python",
   "name": "python",
   "nbconvert_exporter": "python",
   "pygments_lexer": "ipython3",
   "version": "3.9.5"
  }
 },
 "nbformat": 4,
 "nbformat_minor": 2
}
