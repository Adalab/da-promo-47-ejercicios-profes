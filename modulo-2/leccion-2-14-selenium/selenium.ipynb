{
 "cells": [
  {
   "cell_type": "code",
   "execution_count": 1,
   "metadata": {},
   "outputs": [],
   "source": [
    " #Importar librerías para tratamiento de datos\n",
    "# -----------------------------------------------------------------------\n",
    "import pandas as pd  # Pandas es una poderosa librería para manipulación y análisis de datos en Python.\n",
    "\n",
    "# Importar librerías para web scraping y manipulación de datos\n",
    "# -----------------------------------------------------------------------\n",
    "from bs4 import BeautifulSoup\n",
    "import requests\n",
    "\n",
    "# Importar librerías para automatización de navegadores web con Selenium\n",
    "# -----------------------------------------------------------------------\n",
    "from selenium import webdriver  # Selenium es una herramienta para automatizar la interacción con navegadores web.\n",
    "from webdriver_manager.chrome import ChromeDriverManager  # ChromeDriverManager gestiona la instalación del controlador de Chrome.\n",
    "from selenium.webdriver.common.keys import Keys  # Keys es útil para simular eventos de teclado en Selenium.\n",
    "from selenium.webdriver.support.ui import Select  # Select se utiliza para interactuar con elementos <select> en páginas web.\n",
    "\n",
    "# Importar librerías para pausar la ejecución\n",
    "# -----------------------------------------------------------------------\n",
    "from time import sleep  # Sleep se utiliza para pausar la ejecución del programa por un número de segundos.\n",
    "\n",
    "# Configuraciones\n",
    "# -----------------------------------------------------------------------\n",
    "pd.set_option('display.max_columns', None)  # Establece una opción de Pandas para mostrar todas las columnas de un DataFrame."
   ]
  },
  {
   "cell_type": "code",
   "execution_count": 2,
   "metadata": {},
   "outputs": [],
   "source": [
    "## Pasos ejecutar selenium\n",
    "## 1. Elegir la url \n",
    "## 2. Inicializar el navegador de Chrome con una url\n",
    "## 3. Maximizar la ventana del navegador \n",
    "## 4. Aceptar las cookies. \n",
    "\n",
    "## 5. Ejecutar acciones: click, scroll, back -- *sleep"
   ]
  },
  {
   "cell_type": "code",
   "execution_count": 8,
   "metadata": {},
   "outputs": [],
   "source": [
    "url = \"https://adalab.es/\"\n",
    "driver = webdriver.Chrome()\n",
    "driver.get(url)\n",
    "driver.maximize_window()\n",
    "driver.find_element(\"css selector\", '#wt-cli-accept-all-btn').click()\n",
    "sleep(2)\n",
    "driver.find_element('link text', \"BLOG\").click()\n",
    "sleep(5)\n",
    "driver.find_element('css selector', '#menu-item-372097 > a').click()\n",
    "sleep(5)\n",
    "driver.close()\n"
   ]
  },
  {
   "cell_type": "code",
   "execution_count": 16,
   "metadata": {},
   "outputs": [],
   "source": [
    "url = \"https://www.decathlon.es/es/\"\n",
    "driver = webdriver.Chrome()\n",
    "driver.get(url)\n",
    "driver.maximize_window()\n",
    "driver.find_element(\"css selector\", '#didomi-notice-agree-button').click() ## aceptar las cookies\n",
    "sleep(5)\n",
    "## buscar el input para poner el texto\n",
    "driver.find_element('xpath', '//*[@id=\"search-bar\"]/div/form/div/input').send_keys(\"zapatillas\", Keys.ENTER)\n",
    "#driver.find_element('css selector', '#search-bar > div > form > div.vtmn-flex.vtmn-w-full.search-focus-a11y > input').send_keys(\"zapatillas\", Keys.ENTER)\n",
    "\n",
    "diccionario_resultados = {\"nombres\": [], \"precios\": []} \n",
    "\n",
    "for i in range(1,4):\n",
    "    sleep(5)\n",
    "    try: \n",
    "        driver.find_element('css selector', f'#app > main > div.list-body.svelte-duar7s > section.listing-section.svelte-duar7s > div > div:nth-child({i}) > div.product-block-top-main.vtmn-relative.vtmn-flex.vtmn-flex-col.vtmn-w-full.vtmn-items-start > div.dpb-models.vtmn-relative.vtmn-self-center.svelte-1ambt2m > div > a > img').click()\n",
    "        sleep(3)\n",
    "\n",
    "        try:\n",
    "            nombre  = driver.find_element('xpath', '//*[@id=\"app\"]/main/article/div[2]/section/h1').text\n",
    "        except:\n",
    "            nombre= \"No info\"\n",
    "        diccionario_resultados[\"nombres\"].append(nombre)\n",
    "\n",
    "        ## precio\n",
    "        try:\n",
    "            precio = driver.find_element('xpath', '//*[@id=\"app\"]/main/article/div[2]/section/div[1]/div[2]/div/div/span').text\n",
    "        except: \n",
    "            precio = \"No info\"\n",
    "        diccionario_resultados[\"precios\"].append(precio)\n",
    "\n",
    "        driver.back()\n",
    "    except Exception as e:\n",
    "        print(f\"El errro ha sido {e}\")\n",
    "        driver.back()\n",
    "\n",
    "\n",
    "\n",
    "#app > main > div.list-body.svelte-duar7s > section.listing-section.svelte-duar7s > div > div:nth-child(1) > div.product-block-top-main.vtmn-relative.vtmn-flex.vtmn-flex-col.vtmn-w-full.vtmn-items-start > div.dpb-models.vtmn-relative.vtmn-self-center.svelte-1ambt2m > div > a > img\n",
    "#app > main > div.list-body.svelte-duar7s > section.listing-section.svelte-duar7s > div > div:nth-child(2) > div.product-block-top-main.vtmn-relative.vtmn-flex.vtmn-flex-col.vtmn-w-full.vtmn-items-start > div.dpb-models.vtmn-relative.vtmn-self-center.svelte-1ambt2m > div > a > img\n",
    "#app > main > div.list-body.svelte-duar7s > section.listing-section.svelte-duar7s > div > div:nth-child(4) > div.product-block-top-main.vtmn-relative.vtmn-flex.vtmn-flex-col.vtmn-w-full.vtmn-items-start > div.dpb-models.vtmn-relative.vtmn-self-center.svelte-1ambt2m > div > a > img\n"
   ]
  },
  {
   "cell_type": "code",
   "execution_count": 17,
   "metadata": {},
   "outputs": [
    {
     "name": "stdout",
     "output_type": "stream",
     "text": [
      "{'nombres': ['Zapatillas Fitness ADIDAS Amplimove Hombre Negro', 'Zapatillas Fitness Training Adidas Dropset 3 Mujer', 'Zapatillas de running Hombre adidas galaxy 7 negro'], 'precios': ['49,99€', '86,49€', '36,49€']}\n"
     ]
    }
   ],
   "source": [
    "print(diccionario_resultados)"
   ]
  },
  {
   "cell_type": "code",
   "execution_count": 18,
   "metadata": {},
   "outputs": [
    {
     "data": {
      "text/html": [
       "<div>\n",
       "<style scoped>\n",
       "    .dataframe tbody tr th:only-of-type {\n",
       "        vertical-align: middle;\n",
       "    }\n",
       "\n",
       "    .dataframe tbody tr th {\n",
       "        vertical-align: top;\n",
       "    }\n",
       "\n",
       "    .dataframe thead th {\n",
       "        text-align: right;\n",
       "    }\n",
       "</style>\n",
       "<table border=\"1\" class=\"dataframe\">\n",
       "  <thead>\n",
       "    <tr style=\"text-align: right;\">\n",
       "      <th></th>\n",
       "      <th>nombres</th>\n",
       "      <th>precios</th>\n",
       "    </tr>\n",
       "  </thead>\n",
       "  <tbody>\n",
       "    <tr>\n",
       "      <th>0</th>\n",
       "      <td>Zapatillas Fitness ADIDAS Amplimove Hombre Negro</td>\n",
       "      <td>49,99€</td>\n",
       "    </tr>\n",
       "    <tr>\n",
       "      <th>1</th>\n",
       "      <td>Zapatillas Fitness Training Adidas Dropset 3 M...</td>\n",
       "      <td>86,49€</td>\n",
       "    </tr>\n",
       "    <tr>\n",
       "      <th>2</th>\n",
       "      <td>Zapatillas de running Hombre adidas galaxy 7 n...</td>\n",
       "      <td>36,49€</td>\n",
       "    </tr>\n",
       "  </tbody>\n",
       "</table>\n",
       "</div>"
      ],
      "text/plain": [
       "                                             nombres precios\n",
       "0   Zapatillas Fitness ADIDAS Amplimove Hombre Negro  49,99€\n",
       "1  Zapatillas Fitness Training Adidas Dropset 3 M...  86,49€\n",
       "2  Zapatillas de running Hombre adidas galaxy 7 n...  36,49€"
      ]
     },
     "execution_count": 18,
     "metadata": {},
     "output_type": "execute_result"
    }
   ],
   "source": [
    "df = pd.DataFrame(diccionario_resultados)\n",
    "df"
   ]
  },
  {
   "cell_type": "code",
   "execution_count": 28,
   "metadata": {},
   "outputs": [
    {
     "name": "stdout",
     "output_type": "stream",
     "text": [
      "Manzanas Golden, bandeja 1 Kg aprox.\n",
      "2.49 €\n",
      "Plátanos de Canarias, mano 1 Kg aprox.\n",
      "2.89 €\n",
      "Tomates pera, bandeja 1 Kg aprox.\n",
      "2.35 €\n",
      "Naranjas de mesa, malla 2 Kg aprox.\n",
      "3.49 €\n",
      "Cebollas dulces, malla 1.5 Kg aprox.\n",
      "1.99 €\n",
      "Zanahorias frescas, bandeja 1 Kg aprox.\n",
      "1.20 €\n"
     ]
    }
   ],
   "source": [
    "## ejemplo sobre https://beta.adalab.es/online_supermarket/\n",
    "\n",
    "url = \"https://beta.adalab.es/online_supermarket/\"\n",
    "driver = webdriver.Chrome()\n",
    "driver.get(url)\n",
    "driver.maximize_window()\n",
    "sleep(3)\n",
    "driver.find_element('css selector', 'body > div.__variable_a6519f > div > div > button.CookieConsent_acceptButton__Mb_bR.CookieConsent_acceptAllButton__yhaaI').click()\n",
    "sleep(3)\n",
    "driver.find_element('css selector', 'body > div > header > div > div').click()\n",
    "sleep(2)\n",
    "driver.find_element('css selector', 'body > div > header > div > div.HamburgerMenu_menuExpanded__eR7Cl > ul > li:nth-child(2) > a').click()\n",
    "diccionario_frutas = {\"frutas\": [], \"precios\": []}\n",
    "\n",
    "for i in range(1,7): \n",
    "    sleep(3)\n",
    "    try:\n",
    "        nombre = driver.find_element(\"css selector\", f\"body > main > div > div:nth-child({i}) > div.ProductCard_details__ElEDC > h3\").text\n",
    "    except:\n",
    "        nombre = \"No info\"\n",
    "    \n",
    "    print(nombre)\n",
    "    diccionario_frutas[\"frutas\"].append(nombre)\n",
    "\n",
    "    try:\n",
    "        precio = driver.find_element(\"css selector\", f\"body > main > div > div:nth-child({i}) > div.ProductCard_details__ElEDC > p > span:nth-child(1)\").text\n",
    "    except:\n",
    "        precio = \"No info\"\n",
    "    \n",
    "    print(precio)\n",
    "    diccionario_frutas[\"precios\"].append(precio)\n",
    "\n",
    "\n",
    "driver.close()\n",
    "\n",
    "\n",
    "\n",
    "\n",
    "\n"
   ]
  },
  {
   "cell_type": "code",
   "execution_count": 29,
   "metadata": {},
   "outputs": [
    {
     "data": {
      "text/html": [
       "<div>\n",
       "<style scoped>\n",
       "    .dataframe tbody tr th:only-of-type {\n",
       "        vertical-align: middle;\n",
       "    }\n",
       "\n",
       "    .dataframe tbody tr th {\n",
       "        vertical-align: top;\n",
       "    }\n",
       "\n",
       "    .dataframe thead th {\n",
       "        text-align: right;\n",
       "    }\n",
       "</style>\n",
       "<table border=\"1\" class=\"dataframe\">\n",
       "  <thead>\n",
       "    <tr style=\"text-align: right;\">\n",
       "      <th></th>\n",
       "      <th>frutas</th>\n",
       "      <th>precios</th>\n",
       "    </tr>\n",
       "  </thead>\n",
       "  <tbody>\n",
       "    <tr>\n",
       "      <th>0</th>\n",
       "      <td>Manzanas Golden, bandeja 1 Kg aprox.</td>\n",
       "      <td>2.49 €</td>\n",
       "    </tr>\n",
       "    <tr>\n",
       "      <th>1</th>\n",
       "      <td>Plátanos de Canarias, mano 1 Kg aprox.</td>\n",
       "      <td>2.89 €</td>\n",
       "    </tr>\n",
       "    <tr>\n",
       "      <th>2</th>\n",
       "      <td>Tomates pera, bandeja 1 Kg aprox.</td>\n",
       "      <td>2.35 €</td>\n",
       "    </tr>\n",
       "    <tr>\n",
       "      <th>3</th>\n",
       "      <td>Naranjas de mesa, malla 2 Kg aprox.</td>\n",
       "      <td>3.49 €</td>\n",
       "    </tr>\n",
       "    <tr>\n",
       "      <th>4</th>\n",
       "      <td>Cebollas dulces, malla 1.5 Kg aprox.</td>\n",
       "      <td>1.99 €</td>\n",
       "    </tr>\n",
       "    <tr>\n",
       "      <th>5</th>\n",
       "      <td>Zanahorias frescas, bandeja 1 Kg aprox.</td>\n",
       "      <td>1.20 €</td>\n",
       "    </tr>\n",
       "  </tbody>\n",
       "</table>\n",
       "</div>"
      ],
      "text/plain": [
       "                                    frutas precios\n",
       "0     Manzanas Golden, bandeja 1 Kg aprox.  2.49 €\n",
       "1   Plátanos de Canarias, mano 1 Kg aprox.  2.89 €\n",
       "2        Tomates pera, bandeja 1 Kg aprox.  2.35 €\n",
       "3      Naranjas de mesa, malla 2 Kg aprox.  3.49 €\n",
       "4     Cebollas dulces, malla 1.5 Kg aprox.  1.99 €\n",
       "5  Zanahorias frescas, bandeja 1 Kg aprox.  1.20 €"
      ]
     },
     "execution_count": 29,
     "metadata": {},
     "output_type": "execute_result"
    }
   ],
   "source": [
    "df_frutas  = pd.DataFrame(diccionario_frutas)\n",
    "df_frutas"
   ]
  }
 ],
 "metadata": {
  "kernelspec": {
   "display_name": "base",
   "language": "python",
   "name": "python3"
  },
  "language_info": {
   "codemirror_mode": {
    "name": "ipython",
    "version": 3
   },
   "file_extension": ".py",
   "mimetype": "text/x-python",
   "name": "python",
   "nbconvert_exporter": "python",
   "pygments_lexer": "ipython3",
   "version": "3.9.7"
  }
 },
 "nbformat": 4,
 "nbformat_minor": 2
}
