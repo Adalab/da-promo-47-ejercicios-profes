{
 "cells": [
  {
   "cell_type": "markdown",
   "metadata": {},
   "source": [
    "## Proyecto Music Stream\n",
    "\n",
    "**Para la profesora:** 👩🏻‍🏫\n",
    "Explicar cual es el objetivo del proyecto y cuales son las fases por las que pasará el proyecto.\n",
    "\n",
    "### Objetivo\n",
    "\n",
    "1. Crear una bases de datos para almacenar información de canciones y artistas. \n",
    "2. Extraer información de la base de datos para responder preguntas sobre la música almacenada.\n",
    "\n",
    "### Fases del proyecto \n",
    "\n",
    "![](./assets/esquema_de_fases.png)\n",
    "\n",
    "**Fase 1: Extraer Datos**\n",
    "1. Extraer información de Api Spotify\n",
    "2. Extraer información de API Last FM\n",
    "3. Guardar esa información en CSV\n",
    "\n",
    "**Fase 2:Bases de datos**\n",
    "1. Diseñar la Base de Datos\n",
    "2. Crear la bases de datos\n",
    "3. Insertar los valores en la bases de datos\n",
    "   \n",
    "**Fase 3:Extraer información**\n",
    "1. Extraer información de la base de datos para responder preguntas sobre la música almacenada.\n",
    "   "
   ]
  },
  {
   "cell_type": "markdown",
   "metadata": {},
   "source": [
    "## Comencemos... Fase 1.1 Extraer información de Api Spotify\n"
   ]
  },
  {
   "cell_type": "code",
   "execution_count": 1,
   "metadata": {},
   "outputs": [],
   "source": [
    "## - Explicar como usar la libreria spotipy \n",
    "import spotipy\n",
    "from spotipy.oauth2 import SpotifyClientCredentials"
   ]
  },
  {
   "cell_type": "code",
   "execution_count": 3,
   "metadata": {},
   "outputs": [],
   "source": [
    "# Coloca tus credenciales aquí\n",
    "CLIENT_ID = 'a018711755a146b2a678a93741dc6041'\n",
    "CLIENT_SECRET = '51fa44e4b57343f19c810b9a75089da6'\n",
    "\n",
    "# Autenticación\n",
    "auth_manager = SpotifyClientCredentials(client_id=CLIENT_ID, client_secret=CLIENT_SECRET)\n",
    "sp = spotipy.Spotify(auth_manager=auth_manager)"
   ]
  },
  {
   "cell_type": "markdown",
   "metadata": {},
   "source": [
    "### Como usar el método de search de Spotipy"
   ]
  },
  {
   "cell_type": "code",
   "execution_count": 4,
   "metadata": {},
   "outputs": [],
   "source": [
    "datos = sp.search(q=\"genre:rock year:2020\", type='track', limit=50, offset=0)"
   ]
  },
  {
   "cell_type": "code",
   "execution_count": null,
   "metadata": {},
   "outputs": [],
   "source": [
    "datos"
   ]
  },
  {
   "cell_type": "code",
   "execution_count": null,
   "metadata": {},
   "outputs": [],
   "source": [
    "cancion_con_todo = datos['tracks']['items'][1]\n",
    "cancion_con_todo"
   ]
  },
  {
   "cell_type": "code",
   "execution_count": 16,
   "metadata": {},
   "outputs": [
    {
     "data": {
      "text/plain": [
       "{'nombre_cancion': 'A Partir De Hoy',\n",
       " 'nombre_artista': 'David Bisbal',\n",
       " 'genre': 'rock',\n",
       " 'type': 'track',\n",
       " 'year': '2020'}"
      ]
     },
     "execution_count": 16,
     "metadata": {},
     "output_type": "execute_result"
    }
   ],
   "source": [
    "cancion_con_lo_necesito={\n",
    "    \"nombre_cancion\": cancion_con_todo['name'],\n",
    "    \"nombre_artista\": cancion_con_todo['artists'][0]['name'],\n",
    "    'genre': \"rock\",\n",
    "    \"type\": cancion_con_todo['type'],\n",
    "    \"year\": cancion_con_todo['album']['release_date'][:4]\n",
    "}\n",
    "cancion_con_lo_necesito"
   ]
  },
  {
   "cell_type": "code",
   "execution_count": null,
   "metadata": {},
   "outputs": [],
   "source": [
    "genres = [\"pop\", \"rock\"]\n",
    "year_start = 2002\n",
    "year_end = 2002\n",
    "\n",
    "lista_canciones_albumes = [] \n",
    "lista_artistas = []"
   ]
  },
  {
   "cell_type": "code",
   "execution_count": null,
   "metadata": {},
   "outputs": [],
   "source": [
    "for genre in genres: \n",
    "    print(f\"Extrayendo datos del genero{genre}\")\n",
    "    datos = sp.search(q=f\"genre:{genre} year:{year_start-year_end}\", type='track, album', limit=50, offset=0)\n",
    "    for item in datos['tracks']['items']: \n",
    "        #crear el objeto (canciones)\n",
    "        #añadir a la lista de canciones\n",
    "        #añdiendo el nombre artista a la lista de artistas\n",
    "    for item in datos[\"albums\"]['items']: \n",
    "        #crear el objeto (albumnes)\n",
    "        #añadir a la lista de canciones\n",
    "        #añdiendo el nombre artista a la lista de artistas\n"
   ]
  },
  {
   "cell_type": "code",
   "execution_count": null,
   "metadata": {},
   "outputs": [],
   "source": [
    "#guardar en un csv\n",
    "df = pd.Dataframe(lista_canciones_albumes)\n",
    "df.to_csv(\"lista_de_canciones.csv\");\n",
    "\n",
    "## guardo ellistao de artistas en un csv. Verificar que los artistas sea unico"
   ]
  }
 ],
 "metadata": {
  "kernelspec": {
   "display_name": "base",
   "language": "python",
   "name": "python3"
  },
  "language_info": {
   "codemirror_mode": {
    "name": "ipython",
    "version": 3
   },
   "file_extension": ".py",
   "mimetype": "text/x-python",
   "name": "python",
   "nbconvert_exporter": "python",
   "pygments_lexer": "ipython3",
   "version": "3.9.7"
  }
 },
 "nbformat": 4,
 "nbformat_minor": 2
}
