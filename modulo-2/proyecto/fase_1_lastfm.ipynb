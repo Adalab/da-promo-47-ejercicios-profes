{
 "cells": [
  {
   "cell_type": "markdown",
   "metadata": {},
   "source": [
    "## Proyecto Music Stream\n",
    "\n",
    "**Para la profesora:** 👩🏻‍🏫\n",
    "Explicar cual es el objetivo del proyecto y cuales son las fases por las que pasará el proyecto.\n",
    "\n",
    "### Objetivo\n",
    "\n",
    "1. Crear una bases de datos para almacenar información de canciones y artistas. \n",
    "2. Extraer información de la base de datos para responder preguntas sobre la música almacenada.\n",
    "\n",
    "### Fases del proyecto \n",
    "\n",
    "![](./assets/esquema_de_fases.png)\n",
    "\n",
    "**Fase 1: Extraer Datos**\n",
    "1. Extraer información de Api Spotify\n",
    "2. Extraer información de API Last FM\n",
    "3. Guardar esa información en CSV\n",
    "\n",
    "**Fase 2:Bases de datos**\n",
    "1. Diseñar la Base de Datos\n",
    "2. Crear la bases de datos\n",
    "3. Insertar los valores en la bases de datos\n",
    "   \n",
    "**Fase 3:Extraer información**\n",
    "1. Extraer información de la base de datos para responder preguntas sobre la música almacenada.\n",
    "   "
   ]
  },
  {
   "cell_type": "markdown",
   "metadata": {},
   "source": [
    "## Seguimos... Fase 1.2 Extraer información de Api Last FM\n"
   ]
  },
  {
   "cell_type": "code",
   "execution_count": 1,
   "metadata": {},
   "outputs": [],
   "source": [
    "# Importar librería para la conexión con MySQL\n",
    "# -----------------------------------------------------------------------\n",
    "#pip install mysql-connector -> en caso de no tenerla\n",
    "import mysql.connector\n",
    "from mysql.connector import errorcode\n",
    "\n",
    "# Importar librerías para manipulación y análisis de datos\n",
    "# -----------------------------------------------------------------------\n",
    "#pip install requests-> en caso de no tenerla\n",
    "#pip install pandas-> en caso de no tenerla\n",
    "#pip install numpy-> en caso de no tenerla\n",
    "import requests\n",
    "import pandas as pd\n",
    "\n",
    "# conexion a spotify\n",
    "# -----------------------------------------------------------------------\n",
    "#pip install spotipy -> en caso de no tenerla\n",
    "import spotipy\n",
    "from spotipy.oauth2 import SpotifyClientCredentials"
   ]
  },
  {
   "cell_type": "code",
   "execution_count": 2,
   "metadata": {},
   "outputs": [],
   "source": [
    "# API Key obtenida de last.fm\n",
    "API_KEY = 'd97c59010214fb89dd7e101407646224'  # Reemplaza con tu API Key válida de Last.fm.\n",
    "BASE_URL = 'http://ws.audioscrobbler.com/2.0/' # esta base siempre es la misma."
   ]
  },
  {
   "cell_type": "code",
   "execution_count": 5,
   "metadata": {},
   "outputs": [
    {
     "data": {
      "text/plain": [
       "{'artist': {'name': 'Madonna',\n",
       "  'mbid': '79239441-bfd5-4981-a70c-55c3f15c1287',\n",
       "  'url': 'https://www.last.fm/music/Madonna',\n",
       "  'image': [{'#text': 'https://lastfm.freetls.fastly.net/i/u/34s/2a96cbd8b46e442fc41c2b86b821562f.png',\n",
       "    'size': 'small'},\n",
       "   {'#text': 'https://lastfm.freetls.fastly.net/i/u/64s/2a96cbd8b46e442fc41c2b86b821562f.png',\n",
       "    'size': 'medium'},\n",
       "   {'#text': 'https://lastfm.freetls.fastly.net/i/u/174s/2a96cbd8b46e442fc41c2b86b821562f.png',\n",
       "    'size': 'large'},\n",
       "   {'#text': 'https://lastfm.freetls.fastly.net/i/u/300x300/2a96cbd8b46e442fc41c2b86b821562f.png',\n",
       "    'size': 'extralarge'},\n",
       "   {'#text': 'https://lastfm.freetls.fastly.net/i/u/300x300/2a96cbd8b46e442fc41c2b86b821562f.png',\n",
       "    'size': 'mega'},\n",
       "   {'#text': 'https://lastfm.freetls.fastly.net/i/u/300x300/2a96cbd8b46e442fc41c2b86b821562f.png',\n",
       "    'size': ''}],\n",
       "  'streamable': '0',\n",
       "  'ontour': '0',\n",
       "  'stats': {'listeners': '4684187', 'playcount': '261041238'},\n",
       "  'similar': {'artist': [{'name': 'Kylie Minogue',\n",
       "     'url': 'https://www.last.fm/music/Kylie+Minogue',\n",
       "     'image': [{'#text': 'https://lastfm.freetls.fastly.net/i/u/34s/2a96cbd8b46e442fc41c2b86b821562f.png',\n",
       "       'size': 'small'},\n",
       "      {'#text': 'https://lastfm.freetls.fastly.net/i/u/64s/2a96cbd8b46e442fc41c2b86b821562f.png',\n",
       "       'size': 'medium'},\n",
       "      {'#text': 'https://lastfm.freetls.fastly.net/i/u/174s/2a96cbd8b46e442fc41c2b86b821562f.png',\n",
       "       'size': 'large'},\n",
       "      {'#text': 'https://lastfm.freetls.fastly.net/i/u/300x300/2a96cbd8b46e442fc41c2b86b821562f.png',\n",
       "       'size': 'extralarge'},\n",
       "      {'#text': 'https://lastfm.freetls.fastly.net/i/u/300x300/2a96cbd8b46e442fc41c2b86b821562f.png',\n",
       "       'size': 'mega'},\n",
       "      {'#text': 'https://lastfm.freetls.fastly.net/i/u/300x300/2a96cbd8b46e442fc41c2b86b821562f.png',\n",
       "       'size': ''}]},\n",
       "    {'name': 'Britney Spears',\n",
       "     'url': 'https://www.last.fm/music/Britney+Spears',\n",
       "     'image': [{'#text': 'https://lastfm.freetls.fastly.net/i/u/34s/2a96cbd8b46e442fc41c2b86b821562f.png',\n",
       "       'size': 'small'},\n",
       "      {'#text': 'https://lastfm.freetls.fastly.net/i/u/64s/2a96cbd8b46e442fc41c2b86b821562f.png',\n",
       "       'size': 'medium'},\n",
       "      {'#text': 'https://lastfm.freetls.fastly.net/i/u/174s/2a96cbd8b46e442fc41c2b86b821562f.png',\n",
       "       'size': 'large'},\n",
       "      {'#text': 'https://lastfm.freetls.fastly.net/i/u/300x300/2a96cbd8b46e442fc41c2b86b821562f.png',\n",
       "       'size': 'extralarge'},\n",
       "      {'#text': 'https://lastfm.freetls.fastly.net/i/u/300x300/2a96cbd8b46e442fc41c2b86b821562f.png',\n",
       "       'size': 'mega'},\n",
       "      {'#text': 'https://lastfm.freetls.fastly.net/i/u/300x300/2a96cbd8b46e442fc41c2b86b821562f.png',\n",
       "       'size': ''}]},\n",
       "    {'name': 'Janet Jackson',\n",
       "     'url': 'https://www.last.fm/music/Janet+Jackson',\n",
       "     'image': [{'#text': 'https://lastfm.freetls.fastly.net/i/u/34s/2a96cbd8b46e442fc41c2b86b821562f.png',\n",
       "       'size': 'small'},\n",
       "      {'#text': 'https://lastfm.freetls.fastly.net/i/u/64s/2a96cbd8b46e442fc41c2b86b821562f.png',\n",
       "       'size': 'medium'},\n",
       "      {'#text': 'https://lastfm.freetls.fastly.net/i/u/174s/2a96cbd8b46e442fc41c2b86b821562f.png',\n",
       "       'size': 'large'},\n",
       "      {'#text': 'https://lastfm.freetls.fastly.net/i/u/300x300/2a96cbd8b46e442fc41c2b86b821562f.png',\n",
       "       'size': 'extralarge'},\n",
       "      {'#text': 'https://lastfm.freetls.fastly.net/i/u/300x300/2a96cbd8b46e442fc41c2b86b821562f.png',\n",
       "       'size': 'mega'},\n",
       "      {'#text': 'https://lastfm.freetls.fastly.net/i/u/300x300/2a96cbd8b46e442fc41c2b86b821562f.png',\n",
       "       'size': ''}]},\n",
       "    {'name': 'Paula Abdul',\n",
       "     'url': 'https://www.last.fm/music/Paula+Abdul',\n",
       "     'image': [{'#text': 'https://lastfm.freetls.fastly.net/i/u/34s/2a96cbd8b46e442fc41c2b86b821562f.png',\n",
       "       'size': 'small'},\n",
       "      {'#text': 'https://lastfm.freetls.fastly.net/i/u/64s/2a96cbd8b46e442fc41c2b86b821562f.png',\n",
       "       'size': 'medium'},\n",
       "      {'#text': 'https://lastfm.freetls.fastly.net/i/u/174s/2a96cbd8b46e442fc41c2b86b821562f.png',\n",
       "       'size': 'large'},\n",
       "      {'#text': 'https://lastfm.freetls.fastly.net/i/u/300x300/2a96cbd8b46e442fc41c2b86b821562f.png',\n",
       "       'size': 'extralarge'},\n",
       "      {'#text': 'https://lastfm.freetls.fastly.net/i/u/300x300/2a96cbd8b46e442fc41c2b86b821562f.png',\n",
       "       'size': 'mega'},\n",
       "      {'#text': 'https://lastfm.freetls.fastly.net/i/u/300x300/2a96cbd8b46e442fc41c2b86b821562f.png',\n",
       "       'size': ''}]},\n",
       "    {'name': 'Cher',\n",
       "     'url': 'https://www.last.fm/music/Cher',\n",
       "     'image': [{'#text': 'https://lastfm.freetls.fastly.net/i/u/34s/2a96cbd8b46e442fc41c2b86b821562f.png',\n",
       "       'size': 'small'},\n",
       "      {'#text': 'https://lastfm.freetls.fastly.net/i/u/64s/2a96cbd8b46e442fc41c2b86b821562f.png',\n",
       "       'size': 'medium'},\n",
       "      {'#text': 'https://lastfm.freetls.fastly.net/i/u/174s/2a96cbd8b46e442fc41c2b86b821562f.png',\n",
       "       'size': 'large'},\n",
       "      {'#text': 'https://lastfm.freetls.fastly.net/i/u/300x300/2a96cbd8b46e442fc41c2b86b821562f.png',\n",
       "       'size': 'extralarge'},\n",
       "      {'#text': 'https://lastfm.freetls.fastly.net/i/u/300x300/2a96cbd8b46e442fc41c2b86b821562f.png',\n",
       "       'size': 'mega'},\n",
       "      {'#text': 'https://lastfm.freetls.fastly.net/i/u/300x300/2a96cbd8b46e442fc41c2b86b821562f.png',\n",
       "       'size': ''}]}]},\n",
       "  'tags': {'tag': [{'name': 'pop', 'url': 'https://www.last.fm/tag/pop'},\n",
       "    {'name': 'dance', 'url': 'https://www.last.fm/tag/dance'},\n",
       "    {'name': 'female vocalists',\n",
       "     'url': 'https://www.last.fm/tag/female+vocalists'},\n",
       "    {'name': '80s', 'url': 'https://www.last.fm/tag/80s'},\n",
       "    {'name': 'electronic', 'url': 'https://www.last.fm/tag/electronic'}]},\n",
       "  'bio': {'links': {'link': {'#text': '',\n",
       "     'rel': 'original',\n",
       "     'href': 'https://last.fm/music/Madonna/+wiki'}},\n",
       "   'published': '10 Feb 2006, 15:15',\n",
       "   'summary': 'Madonna Louise Veronica Ciccone (born August 16, 1958 in Bay City, Michigan) is an American singer, songwriter and actress. She is considered one of the most influential figures in popular culture and has often been referred to as the \"Queen of Pop\". Madonna is noted for her continual reinvention and versatility in music production, songwriting and visual presentation. She is also known for pushing the boundaries of artistic expression in mainstream music, while maintaining control over every aspect of her career. <a href=\"https://www.last.fm/music/Madonna\">Read more on Last.fm</a>',\n",
       "   'content': 'Madonna Louise Veronica Ciccone (born August 16, 1958 in Bay City, Michigan) is an American singer, songwriter and actress. She is considered one of the most influential figures in popular culture and has often been referred to as the \"Queen of Pop\". Madonna is noted for her continual reinvention and versatility in music production, songwriting and visual presentation. She is also known for pushing the boundaries of artistic expression in mainstream music, while maintaining control over every aspect of her career. Her works, which incorporate social, political, sexual and religious themes, have generated both controversy and critical acclaim.\\n\\nBorn and raised in Michigan, Madonna moved to New York City in 1978 to pursue a career in modern dance. After performing as a drummer, guitarist, and vocalist in the rock bands Breakfast Club and Emmy, she rose to solo stardom with her debut studio album, Madonna (1983). She followed it with a series of successful albums, including all-time bestsellers Like a Virgin (1984) and True Blue (1986) as well as Grammy Award winners Ray of Light (1998) and Confessions on a Dance Floor (2005). Madonna has amassed many number-one singles throughout her career, including \"Like a Virgin\", \"La Isla Bonita\", \"Like a Prayer\", \"Vogue\", \"Take a Bow\", \"Frozen\", \"Music\", \"Hung Up\", and \"4 Minutes\".\\n\\nMadonna\\'s popularity was enhanced by roles in films such as Desperately Seeking Susan (1985), Dick Tracy (1990), A League of Their Own (1992), and Evita (1996). While Evita won her a Golden Globe Award for Best Actress, many of her other films received poor reviews. As a businesswoman, Madonna founded the company Maverick in 1992; it included Maverick Records, one of the most successful artist-run labels in history. Her other ventures include fashion brands, children\\'s books, health clubs, and filmmaking. She contributes to various charities, having founded the Ray of Light Foundation in 1998 and Raising Malawi in 2006.\\n\\nWith sales of over 300 million records worldwide, Madonna is certified as the best-selling female recording artist of all time by Guinness World Records. She is the most successful solo artist in the history of the U.S. Billboard Hot 100 chart and holds the record for the most number-one singles by a female artist in Australia, Canada, Italy, Spain, and the United Kingdom. With a revenue of U.S. $1.5 billion from her concert tickets, she remains the highest-grossing solo touring artist of all time. Madonna was inducted into the Rock and Roll Hall of Fame in 2008, her first year of eligibility. She was ranked as the greatest woman in music by VH1 in 2012, and as the greatest music video artist of all time by MTV in 2003 and Billboard in 2020. Rolling Stone also listed Madonna among the 100 Greatest Artists of All Time and the 100 Greatest Songwriters of All Time.\\n\\nStudio albums\\nMadonna (1983)\\nLike a Virgin (1984)\\nTrue Blue (1986)\\nLike a Prayer (1989)\\nErotica (1992)\\nBedtime Stories (1994)\\nRay of Light (1998)\\nMusic (2000)\\nAmerican Life (2003)\\nConfessions on a Dance Floor (2005)\\nHard Candy (2008)\\nMDNA (2012)\\nRebel Heart (2015)\\nMadame X (2019) <a href=\"https://www.last.fm/music/Madonna\">Read more on Last.fm</a>. User-contributed text is available under the Creative Commons By-SA License; additional terms may apply.'}}}"
      ]
     },
     "execution_count": 5,
     "metadata": {},
     "output_type": "execute_result"
    }
   ],
   "source": [
    "params_info = {\n",
    "    \"method\": \"artist.getInfo\", \n",
    "    \"api_key\": API_KEY,\n",
    "    \"format\": \"json\", \n",
    "    \"artist\": \"Madonna\"\n",
    "}\n",
    "\n",
    "response_info = requests.get(BASE_URL, params = params_info)\n",
    "data_json = response_info.json()\n",
    "data_json\n"
   ]
  },
  {
   "cell_type": "code",
   "execution_count": 6,
   "metadata": {},
   "outputs": [
    {
     "data": {
      "text/plain": [
       "{'Artist': 'Madonna',\n",
       " 'Biografia': 'Madonna Louise Veronica Ciccone (born August 16, 1958 in Bay City, Michigan) is an American singer, songwriter and actress. She is considered one of the most influential figures in popular culture and has often been referred to as the \"Queen of Pop\". Madonna is noted for her continual reinvention and versatility in music production, songwriting and visual presentation. She is also known for pushing the boundaries of artistic expression in mainstream music, while maintaining control over every aspect of her career. <a href=\"https://www.last.fm/music/Madonna\">Read more on Last.fm</a>'}"
      ]
     },
     "execution_count": 6,
     "metadata": {},
     "output_type": "execute_result"
    }
   ],
   "source": [
    "artista = {\n",
    "    'Artist': \"Madonna\", \n",
    "    'Biografia': data_json['artist'].get('bio').get('summary'),\n",
    "    ## completar toda la info del artista\n",
    "}\n",
    "\n",
    "artista"
   ]
  },
  {
   "cell_type": "code",
   "execution_count": null,
   "metadata": {},
   "outputs": [],
   "source": [
    "## Listado de artitas de spotify\n",
    "## Recorrere ese listado y hacer una peticiion a lst.fm con el nombre del artsita\n",
    "### Crear un listado para almacenar los diccionarios de los artistas\n",
    "#### Almacenar ese listado en un fichero. "
   ]
  }
 ],
 "metadata": {
  "kernelspec": {
   "display_name": "base",
   "language": "python",
   "name": "python3"
  },
  "language_info": {
   "codemirror_mode": {
    "name": "ipython",
    "version": 3
   },
   "file_extension": ".py",
   "mimetype": "text/x-python",
   "name": "python",
   "nbconvert_exporter": "python",
   "pygments_lexer": "ipython3",
   "version": "3.9.7"
  }
 },
 "nbformat": 4,
 "nbformat_minor": 2
}
