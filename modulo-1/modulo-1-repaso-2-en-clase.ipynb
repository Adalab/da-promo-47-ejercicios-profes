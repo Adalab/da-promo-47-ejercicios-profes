{
 "cells": [
  {
   "cell_type": "markdown",
   "metadata": {},
   "source": [
    "En este ejercicio, crearás una clase llamada Ecommerce para gestionar los datos de un ecommerce, como productos, clientes y ventas. La clase Ecommerce tiene varios métodos que permiten realizar diversas operaciones.\n",
    "\n",
    "Método constructor\n",
    "\n",
    "- Nombre de la tienda.\n",
    "- Diccionario vacío para almacenar los productos. Ejemplo diccionario:` {id_producto: [nombre, precio, stock]}`\n",
    "- Diccionario vacío para almacenar los clientes. Ejemplo diccionario: `{id_cliente: [nombre, email]}`\n",
    "- Lista vacía para registrar las ventas. Ejemplo lista: [(id_venta, id_cliente, id_producto, cantidad)]"
   ]
  },
  {
   "cell_type": "code",
   "execution_count": 16,
   "metadata": {},
   "outputs": [],
   "source": [
    "class Ecommerce: \n",
    "    def __init__(self,nombre):\n",
    "        self.nombre = nombre\n",
    "        self.productos = {} \n",
    "        self.clientes = {}\n",
    "        self.ventas = []\n",
    "    \n",
    "    \n",
    "    def agregar_producto(self, id_producto, nombre, precio, stock):\n",
    "        if id_producto not in self.productos:\n",
    "            # dic[key]= value\n",
    "            self.productos[id_producto] = [nombre, precio, stock]\n",
    "            print(f\"Producto {nombre} añadido correctamente\")\n",
    "        else:\n",
    "            print(f\"El producto con {id_producto} ya está en el diccionario\")\n"
   ]
  },
  {
   "cell_type": "code",
   "execution_count": null,
   "metadata": {},
   "outputs": [],
   "source": [
    "## Crear un objeto, instancia de la clase Ecommerce\n",
    "\n",
    "mi_tienda = Ecommerce(\"Tienda de ropa\")\n",
    "mi_tienda.agregar_producto(2, \"patata\", 1.67, 20)\n"
   ]
  },
  {
   "cell_type": "code",
   "execution_count": null,
   "metadata": {},
   "outputs": [],
   "source": [
    "#Método agregar_producto(id_producto, nombre, precio, stock):\n",
    "# Este método permite agregar un nuevo producto al inventario del ecommerce.\n",
    "# Verifica si el producto ya existe en el inventario antes de agregarlo.\n",
    "# Retorna un mensaje de éxito si el producto se agrega correctamente.\n",
    "\n",
    "## productos = {id_producto: [nombre, precio, stock]}\n",
    "## 1. Verificar si el id ya está en el diccionarios\n",
    "## 2. Si no está:\n",
    "## Agregar el producto: agregar un elemento al diccionario\n",
    "## 3. Si está, mostrar mensaje que ya está\n",
    "\n",
    "productos_dic= {}\n",
    "def agregar_producto(id_producto, nombre, precio, stock):\n",
    "    if id_producto not in productos_dic:\n",
    "        # dic[key]= value\n",
    "        productos_dic[id_producto] = [nombre, precio, stock]\n",
    "        print(f\"Producto {nombre} añadido correctamente\")\n",
    "    else:\n",
    "        print(f\"El producto con {id_producto} ya está en el diccionario\")\n"
   ]
  },
  {
   "cell_type": "code",
   "execution_count": null,
   "metadata": {},
   "outputs": [],
   "source": [
    "# Método eliminar_producto(id_producto):\n",
    "# Elimina un producto específico del inventario.\n",
    "# También elimina las ventas asociadas al producto eliminado. ** Pendiente \n",
    "# Retorna un mensaje indicando si el producto se eliminó con éxito o si no se encontró en el inventario.\n",
    "\n",
    "def eliminar_producto(id_producto):\n",
    "    if id_producto in productos_dic:\n",
    "        productos_dic.pop(id_producto)\n",
    "        print(f\"Producto {id_producto} eliminado correctamente\")\n",
    "    else:\n",
    "        print(f\"El producto {id_producto} no está en el diccionario\")\n"
   ]
  },
  {
   "cell_type": "code",
   "execution_count": null,
   "metadata": {},
   "outputs": [],
   "source": [
    "# Método realizar_venta(id_cliente, id_producto, cantidad):\n",
    "# Permite registrar una venta de un producto a un cliente.\n",
    "# Verifica si el producto y el cliente existen en la base de datos antes de realizar la venta.\n",
    "# Comprueba si hay suficiente stock para la venta.\n",
    "# Registra la venta y actualiza el stock del producto.\n",
    "# Retorna un mensaje de éxito con el ID de la venta o un mensaje de error si no se puede realizar la venta.\n",
    "\n",
    "# [(id_venta, id_cliente, id_producto, cantidad)]\n",
    "ventas_list = []\n",
    "clientes_list = {}\n",
    "def realizar_venta(id_cliente, id_producto, cantidad):\n",
    "    # Verifica si el producto y el cliente existen en la base de datos antes de realizar la venta.\n",
    "    if id_producto in productos_dic and id_cliente in clientes_list:\n",
    "        #Comprueba si hay suficiente stock para la venta.\n",
    "        # buscar el producto, buscar un elemento en el diccionario\n",
    "        if productos_dic[id_producto][2] >= cantidad:\n",
    "            # crear el id de la venta\n",
    "            id_venta = len(ventas_list) + 1 # ***Si se elimina puede dar problemas el id único, pues se repite la longitud, podemos implementar un contador para el id o generar un id. \n",
    "            #entonces hago la venta: (id_venta, id_cliente, id_producto, cantidad)\n",
    "            ventas_list.append((id_venta, id_cliente,id_producto, cantidad))\n",
    "            # actualiza el stock del producto.\n",
    "            productos_dic[id_producto][2] = productos_dic[id_producto][2] - cantidad\n",
    "        else:\n",
    "            print(\"No hay stock suficiente\")\n",
    "    else:\n",
    "        print(\"El producto o el cliente que buscas no existe\")"
   ]
  },
  {
   "cell_type": "code",
   "execution_count": 22,
   "metadata": {},
   "outputs": [
    {
     "data": {
      "text/plain": [
       "{2: ['patata', 1.67, 20]}"
      ]
     },
     "execution_count": 22,
     "metadata": {},
     "output_type": "execute_result"
    }
   ],
   "source": [
    "productos_dic"
   ]
  },
  {
   "cell_type": "code",
   "execution_count": null,
   "metadata": {},
   "outputs": [],
   "source": [
    "# Método obtener_inventario(): Recopila información detallada sobre el inventario, incluyendo nombre, precio, stock disponible, stock vendido y stock total de cada producto. Retorna un diccionario con esta información.\n",
    "\n",
    "def obtener_inventario():\n",
    "    # diccionario {idproducto: [nombre, precio, stock disponible, stock vendido, stock total]}\n",
    "    inventario = {}\n",
    "\n",
    "    for id_producto, producto_info in productos_dic.items():\n",
    "        nombre, precio, stock = producto_info\n",
    "\n",
    "        #sumar todas las ventas de un producto, esas ventas están en lista de ventas\n",
    "        #[(id_venta, id_cliente, id_producto, cantidad)]\n",
    "        sum =0\n",
    "        for venta in ventas_list:\n",
    "            if venta[2]== id_producto: ## accediendo al ide del producto en la lista\n",
    "                sum += venta[3] ## Suma la cantidad\n",
    "        \n",
    "        inventario[id_producto] = {\n",
    "            \"Nombre\": nombre, \n",
    "            \"Precio\": precio,\n",
    "            \"Stock Actual\": stock,\n",
    "            \"Stock vendido \": sum,\n",
    "            \"Stock Total\": stock + sum\n",
    "        }\n",
    "    return inventario\n"
   ]
  },
  {
   "cell_type": "code",
   "execution_count": 21,
   "metadata": {},
   "outputs": [
    {
     "name": "stdout",
     "output_type": "stream",
     "text": [
      "El producto con 1 no está en el diccionario\n"
     ]
    }
   ],
   "source": [
    "eliminar_producto(1)"
   ]
  },
  {
   "cell_type": "code",
   "execution_count": 14,
   "metadata": {},
   "outputs": [
    {
     "name": "stdout",
     "output_type": "stream",
     "text": [
      "Producto patata añadido correctamente\n"
     ]
    }
   ],
   "source": [
    "agregar_producto(2, \"patata\", 1.67, 20)\n"
   ]
  },
  {
   "cell_type": "code",
   "execution_count": 20,
   "metadata": {},
   "outputs": [
    {
     "data": {
      "text/plain": [
       "{2: ['patata', 1.67, 20]}"
      ]
     },
     "execution_count": 20,
     "metadata": {},
     "output_type": "execute_result"
    }
   ],
   "source": [
    "productos_dic"
   ]
  }
 ],
 "metadata": {
  "kernelspec": {
   "display_name": "base",
   "language": "python",
   "name": "python3"
  },
  "language_info": {
   "codemirror_mode": {
    "name": "ipython",
    "version": 3
   },
   "file_extension": ".py",
   "mimetype": "text/x-python",
   "name": "python",
   "nbconvert_exporter": "python",
   "pygments_lexer": "ipython3",
   "version": "3.9.7"
  }
 },
 "nbformat": 4,
 "nbformat_minor": 2
}
