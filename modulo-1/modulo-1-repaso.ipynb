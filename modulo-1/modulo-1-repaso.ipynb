{
 "cells": [
  {
   "cell_type": "markdown",
   "metadata": {},
   "source": [
    "Clasificación de triángulos: Pide al usuario que ingrese las longitudes de tres lados de un triángulo. Determina si el triángulo es equilátero (todos los lados iguales), isósceles (dos lados iguales), o escaleno (ningún lado igual)."
   ]
  },
  {
   "cell_type": "code",
   "execution_count": null,
   "metadata": {},
   "outputs": [
    {
     "name": "stdout",
     "output_type": "stream",
     "text": [
      "Inserta números\n"
     ]
    }
   ],
   "source": [
    "## Sentencias de Control\n",
    "\n",
    "#1. Pedir los lados al usuario (input) \n",
    "# - Voy a convertir a numero\n",
    "# - Y sino es un numero? \n",
    "#2. Comparar los lados del triangulo:\n",
    "# - Comparar que los tres lados del triangulo son iguales -> equilatero  (if == and)\n",
    "# - Comparar que los dos lados del triangulo son iguales -> isosceles (if == or)\n",
    "# - Comparar que los ningún lados del triangulo son iguales -> escaleno (else !=)\n",
    "# 3.Muestro un resultado (print)\n",
    "\n",
    "#1. Pedir los lados al usuario (input)\n",
    "lado1=input(\"Dime el lado 1\")\n",
    "lado2=input(\"Dime el lado 2\")\n",
    "lado3=input(\"Dime el lado 3\")\n",
    "\n",
    "## preguntar si es un string, si es un entero, si es un digito\n",
    "## while para ver si es un numero, si lo es continuo y sino te vuelvo a preguntar \n",
    "while lado1.isdigit()== False:\n",
    "    lado1 = input(\"Por favor insertar un numero\")\n",
    "\n",
    "while lado2.isdigit()== False:\n",
    "    lado2 = input(\"Por favor insertar un numero\")\n",
    "\n",
    "while lado3.isdigit()== False:\n",
    "    lado3 = input(\"Por favor insertar un numero\")\n",
    "\n",
    "#solución 1\n",
    "#2. Comparar los lados del triangulo:\n",
    "#Comparar que los tres lados del triangulo son iguales -> equilatero  (if == and)\n",
    "if lado1.isdigit() and lado2.isdigit() and lado3.isdigit():\n",
    "    if lado1 == lado2 == lado3:\n",
    "        print(\"Equilatero\")\n",
    "    # - Comparar que los dos lados del triangulo son iguales -> isosceles (if == or)\n",
    "    elif lado1== lado2 or lado1== lado3 or lado2==lado3:\n",
    "        print(\"Isosceles\")\n",
    "    else:\n",
    "        print(\"escaleno\")\n",
    "else:\n",
    "    print(\"Inserta números\")\n"
   ]
  },
  {
   "cell_type": "markdown",
   "metadata": {},
   "source": [
    "Adivina el Número: Genera un número aleatorio entre 1 y 20. Pide al usuario que adivine el número y proporciona pistas (mayor o menor) hasta que adivinen correctamente.\n",
    "\n"
   ]
  },
  {
   "cell_type": "code",
   "execution_count": null,
   "metadata": {},
   "outputs": [
    {
     "name": "stdout",
     "output_type": "stream",
     "text": [
      "17\n",
      "El numero es mayor\n"
     ]
    }
   ],
   "source": [
    "## 1. Generar un numero aleatorio (random --numeros aleatorios)\n",
    "## 2. Pedir el usuario el numero\n",
    "## 3. Comprobar si el numero aleatorio es mayor o menor que el numero del usuario\n",
    "## **Esto lo tengo que hacer varias veces hasta que lo adivine\n",
    "## - Si es mayor le pongo una pista\n",
    "## - Si es menor le pongo otra pista\n",
    "## - Si es igual ha ganado el juego\n",
    "\n",
    "import random\n",
    "\n",
    "## 1. Generar un numero aleatorio (random --numeros aleatorios)\n",
    "numero_aleatorio = random.randint(1,20)\n",
    "print(numero_aleatorio)\n",
    "## 2. Pedir el usuario el numero\n",
    "numero_usuario = int(input(\"dime el numero\"))\n",
    "\n",
    "## 3. Comprobar si el numero aleatorio es mayor o menor que el numero del usuario\n",
    "while numero_usuario !=numero_aleatorio:\n",
    "    if numero_aleatorio > numero_usuario:\n",
    "        print(\"El numero es mayor\")\n",
    "    elif numero_aleatorio < numero_usuario:\n",
    "        print(\"El numero es menor\")\n",
    "    numero_usuario = int(input(\"dime el numero\"))\n",
    "\n",
    "else:\n",
    "    print(\"Hs ganado el juego\")\n",
    "\n"
   ]
  },
  {
   "cell_type": "markdown",
   "metadata": {},
   "source": [
    "## Diccionarios"
   ]
  },
  {
   "cell_type": "code",
   "execution_count": 18,
   "metadata": {},
   "outputs": [
    {
     "data": {
      "text/plain": [
       "{'apellido': 'López'}"
      ]
     },
     "execution_count": 18,
     "metadata": {},
     "output_type": "execute_result"
    }
   ],
   "source": [
    "mi_diccionario = {\"apellido\": \"López\"}\n",
    "mi_diccionario"
   ]
  },
  {
   "cell_type": "code",
   "execution_count": 19,
   "metadata": {},
   "outputs": [
    {
     "data": {
      "text/plain": [
       "{'apellido': 'López', 'nombre': 'Juan'}"
      ]
     },
     "execution_count": 19,
     "metadata": {},
     "output_type": "execute_result"
    }
   ],
   "source": [
    "mi_diccionario[\"nombre\"] = \"Juan\"\n",
    "mi_diccionario"
   ]
  },
  {
   "cell_type": "code",
   "execution_count": 20,
   "metadata": {},
   "outputs": [
    {
     "data": {
      "text/plain": [
       "'Juan'"
      ]
     },
     "execution_count": 20,
     "metadata": {},
     "output_type": "execute_result"
    }
   ],
   "source": [
    "valor = mi_diccionario[\"nombre\"]\n",
    "valor"
   ]
  },
  {
   "cell_type": "code",
   "execution_count": 25,
   "metadata": {},
   "outputs": [
    {
     "data": {
      "text/plain": [
       "{'apellido': 'López', 'nombre': 'Ana'}"
      ]
     },
     "execution_count": 25,
     "metadata": {},
     "output_type": "execute_result"
    }
   ],
   "source": [
    "mi_diccionario[\"nombre\"] = \"Ana\"\n",
    "mi_diccionario"
   ]
  },
  {
   "cell_type": "code",
   "execution_count": null,
   "metadata": {},
   "outputs": [
    {
     "data": {
      "text/plain": [
       "('nombre', 'Ana')"
      ]
     },
     "execution_count": 23,
     "metadata": {},
     "output_type": "execute_result"
    }
   ],
   "source": [
    "mi_diccionario.popitem()\n"
   ]
  },
  {
   "cell_type": "code",
   "execution_count": 26,
   "metadata": {},
   "outputs": [
    {
     "data": {
      "text/plain": [
       "{'apellido': 'López', 'nombre': 'Ana'}"
      ]
     },
     "execution_count": 26,
     "metadata": {},
     "output_type": "execute_result"
    }
   ],
   "source": [
    "mi_diccionario"
   ]
  },
  {
   "cell_type": "code",
   "execution_count": 28,
   "metadata": {},
   "outputs": [
    {
     "data": {
      "text/plain": [
       "False"
      ]
     },
     "execution_count": 28,
     "metadata": {},
     "output_type": "execute_result"
    }
   ],
   "source": [
    "existe_apellido = \"dsadsad\" in mi_diccionario\n",
    "existe_apellido"
   ]
  },
  {
   "cell_type": "code",
   "execution_count": 29,
   "metadata": {},
   "outputs": [
    {
     "data": {
      "text/plain": [
       "['apellido', 'nombre']"
      ]
     },
     "execution_count": 29,
     "metadata": {},
     "output_type": "execute_result"
    }
   ],
   "source": [
    "claves = list(mi_diccionario.keys())\n",
    "claves"
   ]
  },
  {
   "cell_type": "code",
   "execution_count": 30,
   "metadata": {},
   "outputs": [
    {
     "data": {
      "text/plain": [
       "['López', 'Ana']"
      ]
     },
     "execution_count": 30,
     "metadata": {},
     "output_type": "execute_result"
    }
   ],
   "source": [
    "values = list(mi_diccionario.values())\n",
    "values"
   ]
  },
  {
   "cell_type": "code",
   "execution_count": 42,
   "metadata": {},
   "outputs": [
    {
     "data": {
      "text/plain": [
       "2"
      ]
     },
     "execution_count": 42,
     "metadata": {},
     "output_type": "execute_result"
    }
   ],
   "source": [
    "len(mi_diccionario)"
   ]
  },
  {
   "cell_type": "code",
   "execution_count": 38,
   "metadata": {},
   "outputs": [
    {
     "data": {
      "text/plain": [
       "{'apellido': 'López', 'nombre': 'Ana'}"
      ]
     },
     "execution_count": 38,
     "metadata": {},
     "output_type": "execute_result"
    }
   ],
   "source": [
    "nuevo_diccionario = mi_diccionario.copy()\n",
    "nuevo_diccionario"
   ]
  },
  {
   "cell_type": "code",
   "execution_count": 33,
   "metadata": {},
   "outputs": [],
   "source": [
    "nuevo_diccionario.clear()"
   ]
  },
  {
   "cell_type": "code",
   "execution_count": 44,
   "metadata": {},
   "outputs": [
    {
     "data": {
      "text/plain": [
       "{'apellido': 'López', 'nombre': 'Ana'}"
      ]
     },
     "execution_count": 44,
     "metadata": {},
     "output_type": "execute_result"
    }
   ],
   "source": [
    "nuevo_diccionario"
   ]
  },
  {
   "cell_type": "code",
   "execution_count": null,
   "metadata": {
    "vscode": {
     "languageId": "markdown"
    }
   },
   "outputs": [],
   "source": []
  },
  {
   "cell_type": "code",
   "execution_count": null,
   "metadata": {},
   "outputs": [
    {
     "name": "stdout",
     "output_type": "stream",
     "text": [
      "{'a': 1, 'b': 3, 'c': 4}\n",
      "{'a': 1, 'b': 3, 'c': 4}\n"
     ]
    }
   ],
   "source": [
    "# Definimos el primer diccionario con dos pares clave-valor\n",
    "\n",
    "dict1 = {'a': 1, 'b': 2}\n",
    "\n",
    "# Definimos el segundo diccionario con dos pares clave-valor\n",
    "\n",
    "dict2 = {'b': 3, 'c': 4}\n",
    "# Combinamos los dos diccionarios usando el operador '|'\n",
    "diccionario_combinado = dict1 | dict2\n",
    "print(diccionario_combinado)\n",
    "\n",
    "## el diccionario no repite los valores que ya existen\n",
    "\n",
    "\n",
    "# Actualizamos dict1 con los pares clave-valor de dict2\n",
    "# Si hay claves duplicadas, se actualiza el valor en dict1 con el valor de dict2\n",
    "dict1.update(dict2)\n",
    "print(dict1)"
   ]
  },
  {
   "cell_type": "code",
   "execution_count": 41,
   "metadata": {},
   "outputs": [],
   "source": [
    "diccionario_combinado"
   ]
  },
  {
   "cell_type": "code",
   "execution_count": 46,
   "metadata": {},
   "outputs": [
    {
     "data": {
      "text/plain": [
       "'Desconocida'"
      ]
     },
     "execution_count": 46,
     "metadata": {},
     "output_type": "execute_result"
    }
   ],
   "source": [
    "edad = mi_diccionario.get(\"edad\", \"Desconocida\")\n",
    "edad"
   ]
  },
  {
   "cell_type": "code",
   "execution_count": null,
   "metadata": {},
   "outputs": [
    {
     "data": {
      "text/plain": [
       "'a'"
      ]
     },
     "execution_count": 48,
     "metadata": {},
     "output_type": "execute_result"
    }
   ],
   "source": [
    "numeric_diccionario = { \"a\":5, \"b\":3, \"c\":4}\n",
    "max(numeric_diccionario, key = numeric_diccionario.get)"
   ]
  },
  {
   "cell_type": "code",
   "execution_count": 49,
   "metadata": {},
   "outputs": [
    {
     "data": {
      "text/plain": [
       "['ana', 'karen', 'yanelis']"
      ]
     },
     "execution_count": 49,
     "metadata": {},
     "output_type": "execute_result"
    }
   ],
   "source": [
    "# sorted vs sort\n",
    "# sort ordena una lita\n",
    "\n",
    "lista = [\"yanelis\", \"ana\", \"karen\"]\n",
    "lista.sort()\n",
    "lista"
   ]
  },
  {
   "cell_type": "code",
   "execution_count": null,
   "metadata": {},
   "outputs": [
    {
     "name": "stdout",
     "output_type": "stream",
     "text": [
      "['yanelis', 'ana', 'karen']\n",
      "['ana', 'karen', 'yanelis']\n"
     ]
    }
   ],
   "source": [
    "# sorted vs sort\n",
    "# sort ordena una lita\n",
    "# Definimos una lista con nombres desordenados\n",
    "lista2 = [\"yanelis\", \"ana\", \"karen\"]\n",
    "\n",
    "# Creamos una nueva lista ordenada a partir de la lista original\n",
    "lista3 = sorted(lista2)\n",
    "\n",
    "# Imprimimos la lista original para mostrar que no ha cambiado\n",
    "print(lista2)\n",
    "\n",
    "# Imprimimos la nueva lista ordenada\n",
    "print(lista3)\n",
    "\n",
    "\n"
   ]
  }
 ],
 "metadata": {
  "kernelspec": {
   "display_name": "base",
   "language": "python",
   "name": "python3"
  },
  "language_info": {
   "codemirror_mode": {
    "name": "ipython",
    "version": 3
   },
   "file_extension": ".py",
   "mimetype": "text/x-python",
   "name": "python",
   "nbconvert_exporter": "python",
   "pygments_lexer": "ipython3",
   "version": "3.9.7"
  }
 },
 "nbformat": 4,
 "nbformat_minor": 2
}
