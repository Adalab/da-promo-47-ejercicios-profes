{
 "cells": [
  {
   "cell_type": "markdown",
   "metadata": {},
   "source": [
    "## If/elif/else\n",
    "- Estructura de control que permite que un programa ejecute unas instrucciones cuando se cumplen unas o varias condiciones\n",
    "- Usaremos mucho las comparaciones y valores booleanos\n",
    "- Estructura:\n",
    "    if condicion:\n",
    "        se ejecuta este código\n",
    "    elif condicion2:\n",
    "        se ejecuta este código\n",
    "    elif tal:\n",
    "        cual\n",
    "    else:\n",
    "        se ejecuta este\n",
    "- Importante la sangría y los dos puntos\n",
    "- No recomendable concatenar if, porque así la máquina \"trabaja más\" y pasa por todos los \"if\"\n",
    "- Puede haber varios elif, pero solo un if y un else\n",
    "- El \"else\" solo se usa para que se ejecute si no se cumple ninguna de las demás funciones. No va con ninguna condición, su condición es que no se cumplan las anteriores.\n",
    "- Sentencias anidadas\n",
    "- Condiciones múltiples con and y or"
   ]
  },
  {
   "cell_type": "code",
   "execution_count": 2,
   "metadata": {},
   "outputs": [
    {
     "name": "stdout",
     "output_type": "stream",
     "text": [
      "Puedes entrar\n"
     ]
    }
   ],
   "source": [
    "#if\n",
    "#nos permite evaluar una condición\n",
    "#si esa condición se cumple o no: True or False\n",
    "\n",
    "\n",
    "nombre = \"Alba\" #asignando un valor a la variable, uso un = \n",
    "\n",
    "if nombre == \"Alba\": # preguntando si la variable es igual a valor, uso ==\n",
    "    print(\"Puedes entrar\")"
   ]
  },
  {
   "cell_type": "code",
   "execution_count": null,
   "metadata": {},
   "outputs": [
    {
     "name": "stdout",
     "output_type": "stream",
     "text": [
      "es mayor\n"
     ]
    }
   ],
   "source": [
    "# elif\n",
    "a = 30\n",
    "b = 20\n",
    "\n",
    "# comparacion de tres numeros\n",
    "# 1. si A es mayor que b imprimo un mensaje que es \"es mayor\"\n",
    "# 2. si A es menor que B imprimo un mensaje que es \"es menor\"\n",
    "# 3. si a a es igual B imprimo un mensaje  \"son iguales\"\n",
    "# \n",
    "\n",
    "if a>b:\n",
    "    print(\"es mayor\")\n",
    "elif a<b:\n",
    "    print(\"es menor\")\n",
    "elif a==b:\n",
    "    print(\"son iguales\")\n",
    "else: \n",
    "    print(\"ha pasado algo: numeros erroneos\") # por si algun valor no es correcto\n"
   ]
  },
  {
   "cell_type": "code",
   "execution_count": 5,
   "metadata": {},
   "outputs": [
    {
     "data": {
      "text/plain": [
       "True"
      ]
     },
     "execution_count": 5,
     "metadata": {},
     "output_type": "execute_result"
    }
   ],
   "source": [
    "a>b"
   ]
  },
  {
   "cell_type": "code",
   "execution_count": null,
   "metadata": {},
   "outputs": [
    {
     "name": "stdout",
     "output_type": "stream",
     "text": [
      "OK\n"
     ]
    }
   ],
   "source": [
    "## if más de una condición\n",
    "a = 30\n",
    "b = 20\n",
    "c= 1\n",
    "\n",
    "## quiero saber si A es mayor que B y es menor que C, si se cumple que me ponga un OK, y no que me imprima No\n",
    "if a>b or a<c: # or , and \n",
    "    print(\"OK\")\n",
    "else:\n",
    "    print(\"no\")\n"
   ]
  },
  {
   "cell_type": "code",
   "execution_count": 9,
   "metadata": {},
   "outputs": [
    {
     "name": "stdout",
     "output_type": "stream",
     "text": [
      "Vaya, no ha podido venir\n"
     ]
    }
   ],
   "source": [
    "namesList = [\"Karen\", \"Lucia\", \"Anto\", \"Paola\"]\n",
    "\n",
    "if \"Elena\" in namesList: \n",
    "    print(\"Lucia ha venido a clase\")\n",
    "else:\n",
    "    print(\"Vaya, no ha podido venir\")"
   ]
  },
  {
   "cell_type": "code",
   "execution_count": 14,
   "metadata": {},
   "outputs": [
    {
     "name": "stdout",
     "output_type": "stream",
     "text": [
      "estas dentro\n"
     ]
    }
   ],
   "source": [
    "## comprobación de contraseña \n",
    "\n",
    "# 1. Pedir al usuario la contraseña\n",
    "# 2. Almacenar la contraseña real\n",
    "# 3. Comprobar que la contraseña coincide con la insertada por el usuario\n",
    "# 4. Si coincide estad entro, sino error\n",
    "\n",
    "\n",
    "usuarioPassword  = input(\"Introduce tu contraseña\")\n",
    "\n",
    "sistemaPassword = \"Promo47\"\n",
    "\n",
    "if usuarioPassword.lower() == sistemaPassword.lower():\n",
    "    print(\"estas dentro\")\n",
    "else:\n",
    "    print(\"error\")\n",
    "\n"
   ]
  },
  {
   "cell_type": "code",
   "execution_count": null,
   "metadata": {},
   "outputs": [],
   "source": [
    "# if anidados\n",
    "# géneros y tallas\n",
    "\n",
    "genero = \"Mujer\"\n",
    "talla = \"L\"\n",
    "\n",
    "if genero == \"Mujer\": \n",
    "    if talla == \"L\": \n",
    "        print(\"No hay stock\")\n",
    "    elif talla == \"M\":\n",
    "        print(\"Quedan pocas unidades\")\n",
    "elif genero == \"Hombre\":\n",
    "     if talla == \"L\": \n",
    "        print(\"No hay stock\")\n",
    "     elif talla == \"M\":\n",
    "        print(\"Quedan pocas unidades\")\n",
    "\n",
    "if genero == \"Mujer\" and talla == \"L\":\n",
    "    print(\"No hay stock\")\n",
    "elif genero == \"Mujer\" and talla == \"M\":\n",
    "     print(\"Quedan pocas unidades\")\n"
   ]
  },
  {
   "cell_type": "code",
   "execution_count": 16,
   "metadata": {},
   "outputs": [
    {
     "name": "stdout",
     "output_type": "stream",
     "text": [
      "Ya la tenemos\n"
     ]
    }
   ],
   "source": [
    "frutas = [\"pera\", \"manzana\", \"plátano\"]\n",
    "\n",
    "# 1. Variable para preguntar si la fruta\n",
    "# Si la fruta está en la lista de frutas dejar un mensaje ya está añadidia\n",
    "# Sino está añadirla \n",
    "\n",
    "fruta_nueva = input(\"dime una fruta\").lower()\n",
    "if(fruta_nueva in frutas):\n",
    "    print(\"Ya la tenemos\")\n",
    "else:\n",
    "    frutas.append(fruta_nueva)\n",
    "    print(frutas)\n",
    "    print(f\"Se ha añadido la fruta {fruta_nueva} \")\n",
    "\n"
   ]
  },
  {
   "cell_type": "markdown",
   "metadata": {},
   "source": [
    "## While\n",
    "\n",
    "- El bucle while repite un conjunto de código mientras se cumpla una condición, para que deje de repetir el bucle, esa condición debe cambiar.\n",
    "- Estructura:\n",
    "\n",
    "    variable_control\n",
    "    \n",
    "    while condicion:\n",
    "        bloque_instrucciones\n",
    "        modifica_variable\n",
    "\n",
    "- Mientras la condición sea True, vuelve a ejecutarse\n",
    "- Cuidado con los bucles infinitos: ¡Tenemos que hacer algo para que la condición cambien durante la repetición del bucle!"
   ]
  },
  {
   "cell_type": "code",
   "execution_count": 23,
   "metadata": {},
   "outputs": [
    {
     "name": "stdout",
     "output_type": "stream",
     "text": [
      "Aquí estoy\n",
      "Hola Ele\n",
      "he saludo del bucle\n"
     ]
    }
   ],
   "source": [
    "# while\n",
    "\n",
    "saludo = \"Hola Carlota\"\n",
    "\n",
    "while \"Carlota\" in saludo: \n",
    "    print(\"Aquí estoy\")\n",
    "    saludo = saludo.replace(\"Carlota\", \"Ele\")\n",
    "    print(saludo)\n",
    "\n",
    "\n",
    "print(\"he saludo del bucle\")\n",
    "\n",
    "\n"
   ]
  },
  {
   "cell_type": "code",
   "execution_count": null,
   "metadata": {},
   "outputs": [
    {
     "name": "stdout",
     "output_type": "stream",
     "text": [
      "estas dentro\n"
     ]
    }
   ],
   "source": [
    "## comprobación de contraseña  con intentos while \n",
    "\n",
    "# 1. Pedir al usuario la contraseña\n",
    "# 2. Almacenar la contraseña real\n",
    "# 3. Comprobar que la contraseña coincide con la insertada por el usuario\n",
    "# 4. Si coincide estad entro, sino error\n",
    "# 5. Creo una variable para almacenar errores del usuario: cuando el usuario haya cometido tres errores, se bloqueo\n",
    "\n",
    "\n",
    "usuarioErrores = 0; \n",
    "sistemaPassword = \"Promo47\"\n",
    "\n",
    "\n",
    "while usuarioErrores < 3: \n",
    "    usuarioPassword  = input(\"Introduce tu contraseña\")\n",
    "    if usuarioPassword.lower() == sistemaPassword.lower():\n",
    "        print(\"estas dentro\")\n",
    "        break\n",
    "    else:\n",
    "        print(\"error\")\n",
    "        usuarioErrores = usuarioErrores+1 #  usuarioErrores+=1\n",
    "else: \n",
    "    print (\"Cuenta bloqueada, superado numero de intentos\")"
   ]
  }
 ],
 "metadata": {
  "kernelspec": {
   "display_name": "base",
   "language": "python",
   "name": "python3"
  },
  "language_info": {
   "codemirror_mode": {
    "name": "ipython",
    "version": 3
   },
   "file_extension": ".py",
   "mimetype": "text/x-python",
   "name": "python",
   "nbconvert_exporter": "python",
   "pygments_lexer": "ipython3",
   "version": "3.9.7"
  }
 },
 "nbformat": 4,
 "nbformat_minor": 2
}
