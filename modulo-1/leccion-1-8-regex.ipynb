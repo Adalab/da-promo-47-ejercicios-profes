{
 "cells": [
  {
   "cell_type": "markdown",
   "metadata": {},
   "source": [
    "# Resumen\n",
    "\n",
    "\n",
    "- `+`  : coincide con el carácter precedente una o más veces.\n",
    "- `*` : coincide con el carácter precedente cero o más veces u opcional\n",
    "- `?` : indica cero o una ocurrencia del elemento precedente.\n",
    "- `.` : coincide con cualquier carácter individual.\n",
    "- `^` : coincide con la posición inicial de cualquier *string*\n",
    "- `$` : coincide con la posición final de cualquier *string*\n"
   ]
  },
  {
   "cell_type": "markdown",
   "metadata": {},
   "source": [
    "## Sintaxis básica de regex\n",
    "\n",
    "- `\\w`: buscaremos cualquier caracter de tipo alfabético.\n",
    "- `\\d`: buscaremos cualquier caracter de tipo númerico.\n",
    "- `\\s`: buscaremos los espacios en nuestro *string*.\n",
    "- `\\n`: buscaremos los saltos de línea en nuestro *string*.\n",
    "- `\\W`: buscaremos cualquier caracter que no sea una letra.\n",
    "- `\\D`: buscaremos cualquier caracter que no sea un dígito. \n",
    "- `\\S`: buscaremos cualquier elemento que no sea un espacio en nuestro *string* \n",
    "- `()` : aísla sólo una parte de nuestro patrón de búsqueda que queremos devolver, es decir, captura un grupo.\n",
    "- `[]` : incluye todos los caracteres que queremos que coincidan e incluso incluye rangos como este: a-z y 0-9.\n",
    "    🚨 Nota [^ch] coincide con todas las cadenas que **NO** empiezan por ch\n",
    "- `|` : es como el operador `or` que conocemos de Python\n",
    "- `\\` : señala una secuencia especial ( escapar caracteres especiales).\n",
    "- `{}`: Exactamente el número especificado de ocurrencias\n",
    "    - {n}: Exactamente n veces\n",
    "    - {n,}: Al menos n veces\n",
    "    - {n,m}: Entre n y m veces"
   ]
  },
  {
   "cell_type": "markdown",
   "metadata": {},
   "source": [
    "# Métodos: \n",
    "- `findall` : devuelve una lista con todas las coincidencias: \n",
    "- `sub` : reemplaza una o varias coincidencias con un *string* especificado.\n",
    "- `split` : devuelve una lista en la que el *string* ha sido dividido en cada coincidencia.\n",
    "- `match` : busca el patrón de expresión regular y devuelve la primera ocurrencia.\n",
    "- `search` : devuelve un objeto Match si hay una coincidencia en cualquier parte de la cadena.\n"
   ]
  },
  {
   "cell_type": "code",
   "execution_count": 45,
   "metadata": {},
   "outputs": [
    {
     "name": "stdout",
     "output_type": "stream",
     "text": [
      "['Promo', 'promo']\n"
     ]
    }
   ],
   "source": [
    "# findall => listado con los que coinciden\n",
    "import re \n",
    "\n",
    "texto = \"L8 Promo L empezó el 2-12-24 y termina el 14-03-2025. Es una promo que está superando el modulo 1 muy bien\"\n",
    "\n",
    "# Obtener solo las fechas \n",
    "patron= r\"\\d{1,}-\\d{2}-\\d{2}\"\n",
    "\n",
    "# obtener promo en mayúscula o en minúscula\n",
    "patron_promos = r\"promo|Promo\" \n",
    "\n",
    "\n",
    "fechas = re.findall(patron_promos, texto);\n",
    "print(fechas)"
   ]
  },
  {
   "cell_type": "code",
   "execution_count": null,
   "metadata": {},
   "outputs": [
    {
     "name": "stdout",
     "output_type": "stream",
     "text": [
      "La Promo 47 empezó el 2-12-24 y termina el 14-03-2025. Es una promo que está superando el modulo 1 muy bien\n"
     ]
    }
   ],
   "source": [
    "## sub re.sub(patron, remplazo. cadena) => string con el reemplazo\n",
    "patron_remplazo_letra = r\"L\\s\"\n",
    "texto_nuevo = re.sub(patron_remplazo_letra, \"47 \", texto)\n",
    "print(texto_nuevo)\n"
   ]
  },
  {
   "cell_type": "code",
   "execution_count": null,
   "metadata": {},
   "outputs": [
    {
     "name": "stdout",
     "output_type": "stream",
     "text": [
      "['La', 'Promo', 'L', 'empezó', 'el', '2-12-24', 'y', 'termina', 'el', '14-03-2025.', 'Es', 'una', 'promo', 'que', 'está', 'superando', 'el', 'modulo', '1', 'muy', 'bien']\n"
     ]
    }
   ],
   "source": [
    "## split = listado \n",
    "patron_texto_dividido = r\" \"\n",
    "lista_palabras = re.split(patron_texto_dividido, texto)\n",
    "print(lista_palabras)\n"
   ]
  },
  {
   "cell_type": "code",
   "execution_count": 46,
   "metadata": {},
   "outputs": [
    {
     "ename": "AttributeError",
     "evalue": "'NoneType' object has no attribute 'group'",
     "output_type": "error",
     "traceback": [
      "\u001b[0;31m---------------------------------------------------------------------------\u001b[0m",
      "\u001b[0;31mAttributeError\u001b[0m                            Traceback (most recent call last)",
      "\u001b[0;32m/var/folders/cr/f3dqyy756z9ftxxsrmgtgjjh0000gn/T/ipykernel_9962/2611303802.py\u001b[0m in \u001b[0;36m<module>\u001b[0;34m\u001b[0m\n\u001b[1;32m      6\u001b[0m \u001b[0mresultado\u001b[0m \u001b[0;34m=\u001b[0m \u001b[0mre\u001b[0m\u001b[0;34m.\u001b[0m\u001b[0mmatch\u001b[0m\u001b[0;34m(\u001b[0m\u001b[0mpatron_mayuscula\u001b[0m\u001b[0;34m,\u001b[0m \u001b[0mtexto\u001b[0m\u001b[0;34m)\u001b[0m\u001b[0;34m\u001b[0m\u001b[0;34m\u001b[0m\u001b[0m\n\u001b[1;32m      7\u001b[0m \u001b[0;34m\u001b[0m\u001b[0m\n\u001b[0;32m----> 8\u001b[0;31m \u001b[0mprint\u001b[0m\u001b[0;34m(\u001b[0m\u001b[0mresultado\u001b[0m\u001b[0;34m.\u001b[0m\u001b[0mgroup\u001b[0m\u001b[0;34m(\u001b[0m\u001b[0;34m)\u001b[0m\u001b[0;34m)\u001b[0m\u001b[0;34m\u001b[0m\u001b[0;34m\u001b[0m\u001b[0m\n\u001b[0m\u001b[1;32m      9\u001b[0m \u001b[0;34m\u001b[0m\u001b[0m\n",
      "\u001b[0;31mAttributeError\u001b[0m: 'NoneType' object has no attribute 'group'"
     ]
    }
   ],
   "source": [
    "#match => objeto de tipo match , solo devuelve una coincidencia, y solo busca en la primera linea\n",
    "\n",
    "# buscar en texto la palabras que empiecen con mayusculas\n",
    "patron_mayuscula = r\"[A-Z][a-z]+\"\n",
    "\n",
    "resultado = re.match(patron_mayuscula, texto)\n",
    "\n",
    "print(resultado.group())\n",
    "\n"
   ]
  },
  {
   "cell_type": "code",
   "execution_count": 43,
   "metadata": {},
   "outputs": [
    {
     "name": "stdout",
     "output_type": "stream",
     "text": [
      "<re.Match object; span=(0, 2), match='La'>\n"
     ]
    }
   ],
   "source": [
    "# search => objeto de tipo match, solo devuelve una coincidencia, pero busca en varias lineas (en todo el string)\n",
    "resultado2 = re.search(patron_mayuscula, texto)\n",
    "print(resultado2)\n",
    "\n"
   ]
  },
  {
   "cell_type": "code",
   "execution_count": null,
   "metadata": {},
   "outputs": [],
   "source": []
  },
  {
   "cell_type": "code",
   "execution_count": null,
   "metadata": {},
   "outputs": [],
   "source": []
  }
 ],
 "metadata": {
  "kernelspec": {
   "display_name": "base",
   "language": "python",
   "name": "python3"
  },
  "language_info": {
   "codemirror_mode": {
    "name": "ipython",
    "version": 3
   },
   "file_extension": ".py",
   "mimetype": "text/x-python",
   "name": "python",
   "nbconvert_exporter": "python",
   "pygments_lexer": "ipython3",
   "version": "3.9.7"
  }
 },
 "nbformat": 4,
 "nbformat_minor": 2
}
