{
 "cells": [
  {
   "cell_type": "markdown",
   "metadata": {},
   "source": [
    "# Diccionario --> Acepta repetidos (pero NO las claves, solo los valores), clave y valor, las claves son inmutables y únicas, accesible por clave"
   ]
  },
  {
   "cell_type": "markdown",
   "metadata": {},
   "source": [
    "- Diccionarios = {clave:valor}\n",
    "- Acepta valores repetidos\n",
    "- Claves inmutables y no se pueden repetir, pero se pueden añadir y eliminar pares de clave-valor y modificar valores\n",
    "- Valores heterogéneos\n",
    "- Accesible por clave, NO POR ÍNDICE\n",
    "- Convertir en diccionario: dict()\n",
    "- in, not in\n",
    "\n",
    "Funciones:\n",
    "\n",
    "- len()\n",
    "- .keys() --> muestra las claves\n",
    "- .values() --> muestra los valores\n",
    "- .items() --> devuelve una lista de tuplas con cada clave y valor\n",
    "- .copy()\n",
    "- .clear()\n",
    "- .update() --> para añadir un elemento nuevo al diccionario, pero SIEMPRE se le pasa en formato diccionario, ejemplo: diccionario.update({\"alumnas\":18})\n",
    "- .get() --> para obtener un valor, dándole una clave, aunque usamos más diccionario[clave]\n",
    "- .pop() --> elimina un valor pasándole la clave\n",
    "- .popitem() --> elimina el ultimo clave-valor agregado\n",
    "- dictnuevo = {**dict1, **dict2, **dict3}"
   ]
  },
  {
   "cell_type": "code",
   "execution_count": 1,
   "metadata": {},
   "outputs": [],
   "source": [
    "dict1 = {\"nombre\": \"Raquel\", \"edad\": 40, \"país\": \"Portugal\"}"
   ]
  },
  {
   "cell_type": "code",
   "execution_count": 88,
   "metadata": {},
   "outputs": [],
   "source": [
    "dict2 = {\"id\": 12323, \"profesión\": \"detective\"}"
   ]
  },
  {
   "cell_type": "code",
   "execution_count": 92,
   "metadata": {},
   "outputs": [],
   "source": [
    "dict1.update(dict2)"
   ]
  },
  {
   "cell_type": "code",
   "execution_count": null,
   "metadata": {},
   "outputs": [],
   "source": [
    "dict1"
   ]
  },
  {
   "cell_type": "code",
   "execution_count": null,
   "metadata": {},
   "outputs": [],
   "source": [
    "#¿Otra forma de hacerlo?"
   ]
  },
  {
   "cell_type": "code",
   "execution_count": null,
   "metadata": {},
   "outputs": [],
   "source": [
    "#Con este diccionario quiero...\n",
    "#Pedir una fruta y su cantidad y añadirla al diccionario\n",
    "#Acceder al valor de manzanas y fresas\n",
    "#Eliminar el último clave-valor\n",
    "#Mostrar todas las frutas que hay (tipos)\n",
    "#Mostrar la cantidad de frutas que tenemos en total\n",
    "#Contar cuántos pares clave-valor tenemos\n",
    "#Borrar el diccionario\n",
    "\n",
    "frutas = {\"peras\": 10, \"manzanas\": 50, \"uvas\": 5, \"fresas\": 8, \"sandías\": 14, \"naranjas\": 14, \"plátanos\": 60}"
   ]
  },
  {
   "cell_type": "markdown",
   "metadata": {},
   "source": [
    "# CONJUNTOS O SETS:"
   ]
  },
  {
   "cell_type": "markdown",
   "metadata": {},
   "source": [
    "- Conjunto = {}\n",
    "- No acepta valores repetidos\n",
    "- Elementos mutables en cuanto a añadir o eliminar, pero no permite listas o diccionarios dentro\n",
    "- Valores heterogéneos\n",
    "- No accesible por índice, desordenados\n",
    "- Convertir en conjunto: set()\n",
    "- in, not in\n",
    "\n",
    "Funciones:\n",
    "\n",
    "- len()\n",
    "- .add() --> para añadir un elemento más, SOLO UNO\n",
    "- .update() --> para pasarle una lista de elementos a añadir\n",
    "- .copy()\n",
    "- .remove() --> elimina UN SOLO ELEMENTO y da error si no existe\n",
    "- .discard() --> igual, pero no da errr\n",
    "- .pop()\n",
    "- .clear()\n",
    "\n",
    "Operaciones especiales:\n",
    "\n",
    "- a.union(b) o a | b --> Muestra los elementos que suman entre los dos conjuntos, sin repetir\n",
    "- a.intersection(b) o a & b --> Muestra los elementos en común\n",
    "- a.difference(b) o a-b --> Muestra los que aparece en uno, quitando los que aparecen en el otro\n",
    "- a.symmetric_difference(b) o a^b --> Muestra los que no tengan en común\n",
    "- a.issubset(b) o a <= b --> Da True si todos los elementos de a están en b\n",
    "- a.issuperset(b) o a >= b --> Da True si a contiene todos los elementos de b\n",
    "NO TIENE NADA QUE VER LA CANTIDAD DE VALORES"
   ]
  },
  {
   "cell_type": "markdown",
   "metadata": {},
   "source": [
    "![![Conjuntos] (https://i.sstatic.net/uH6cL.png)](https://i.sstatic.net/uH6cL.png)"
   ]
  },
  {
   "cell_type": "code",
   "execution_count": null,
   "metadata": {},
   "outputs": [],
   "source": [
    "regalos_navidad = {\"chuches\", \"juguetes\", \"libros\", \"ropa\", \"carbón\"}\n",
    "regalos_cumple = {\"tocadiscos\", \"ropa\", \"dinero\", \"libros\", \"juguetes\"}"
   ]
  },
  {
   "cell_type": "code",
   "execution_count": null,
   "metadata": {},
   "outputs": [],
   "source": [
    "#Quiero unir todos en un mismo conjunto llamado regalos"
   ]
  },
  {
   "cell_type": "code",
   "execution_count": null,
   "metadata": {},
   "outputs": [],
   "source": [
    "#Quiero solo los regalos que aparezcan en común"
   ]
  },
  {
   "cell_type": "code",
   "execution_count": null,
   "metadata": {},
   "outputs": [],
   "source": [
    "#Quiero los regalos que sean de navidad, pero que no sean de cumpleaños"
   ]
  },
  {
   "cell_type": "code",
   "execution_count": null,
   "metadata": {},
   "outputs": [],
   "source": [
    "conjunto1 = {\"María\", \"Antonio\", \"Juan\", \"Luisa\", \"Cecilia\", \"Pepa\"}\n",
    "conjunto2 = {\"María\", \"Antonio\"} "
   ]
  },
  {
   "cell_type": "code",
   "execution_count": null,
   "metadata": {},
   "outputs": [],
   "source": [
    "#¿Es el conjunto2 un subconjunto del 1?"
   ]
  },
  {
   "cell_type": "code",
   "execution_count": null,
   "metadata": {},
   "outputs": [],
   "source": [
    "#¿Es el conjunto1 un superconjunto del 2?"
   ]
  }
 ],
 "metadata": {
  "kernelspec": {
   "display_name": "base",
   "language": "python",
   "name": "python3"
  },
  "language_info": {
   "codemirror_mode": {
    "name": "ipython",
    "version": 3
   },
   "file_extension": ".py",
   "mimetype": "text/x-python",
   "name": "python",
   "nbconvert_exporter": "python",
   "pygments_lexer": "ipython3",
   "version": "3.9.7"
  }
 },
 "nbformat": 4,
 "nbformat_minor": 2
}
